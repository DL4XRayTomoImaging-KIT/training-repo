{
 "cells": [
  {
   "cell_type": "code",
   "execution_count": 1,
   "id": "e01936dd",
   "metadata": {},
   "outputs": [],
   "source": [
    "from src.callbacks import iou\n",
    "from univread import read as imread"
   ]
  },
  {
   "cell_type": "code",
   "execution_count": 4,
   "id": "a27af501",
   "metadata": {},
   "outputs": [],
   "source": [
    "import tifffile\n",
    "import numpy as np"
   ]
  },
  {
   "cell_type": "code",
   "execution_count": 2,
   "id": "0bb7fb96",
   "metadata": {},
   "outputs": [],
   "source": [
    "img = tifffile.imread('/mnt/LSDF/projects/code-vita/Medaka/2018_11/Medaka_447_18-2/postprocessed_eyes_scaled_0.5_8bit_cropped_slices.tif')"
   ]
  },
  {
   "cell_type": "code",
   "execution_count": 8,
   "id": "a09f8297",
   "metadata": {},
   "outputs": [],
   "source": [
    "img = np.moveaxis(img, 2, 1)"
   ]
  },
  {
   "cell_type": "code",
   "execution_count": 10,
   "id": "96e35d65",
   "metadata": {},
   "outputs": [],
   "source": [
    "tifffile.imsave('/mnt/LSDF/projects/code-vita/Medaka/2018_11/Medaka_447_18-2/postprocessed_eyes_scaled_0.5_8bit_cropped_slices.tif', img)"
   ]
  },
  {
   "cell_type": "code",
   "execution_count": 2,
   "id": "a3aeb8c7",
   "metadata": {},
   "outputs": [],
   "source": [
    "def calculate_volumetric_error(prediction, label):\n",
    "    if isinstance(prediction, str):\n",
    "        prediction = imread(prediction)\n",
    "    label = imread(label)\n",
    "    \n",
    "    return iou(preds=prediction, labels=label, C=[1, 3, 4, 5, 6])"
   ]
  },
  {
   "cell_type": "code",
   "execution_count": 3,
   "id": "39ab3276",
   "metadata": {},
   "outputs": [],
   "source": [
    "prediction = imread('/mnt/data/medaka/biomedisa_20/01-508.tif')"
   ]
  },
  {
   "cell_type": "code",
   "execution_count": 4,
   "id": "558cf760",
   "metadata": {},
   "outputs": [],
   "source": [
    "from matplotlib import pyplot as plt\n",
    "%matplotlib inline"
   ]
  },
  {
   "cell_type": "code",
   "execution_count": 5,
   "id": "42ee2b39",
   "metadata": {},
   "outputs": [],
   "source": [
    "from glob import glob\n",
    "import os\n",
    "from tqdm.auto import tqdm"
   ]
  },
  {
   "cell_type": "code",
   "execution_count": 8,
   "id": "cb24c343",
   "metadata": {},
   "outputs": [],
   "source": [
    "import numpy as np"
   ]
  },
  {
   "cell_type": "code",
   "execution_count": 6,
   "id": "171b6dc4",
   "metadata": {},
   "outputs": [],
   "source": [
    "def interpolate_nearest_neighbour(markup):\n",
    "    slices_marked = np.where(markup.sum((1, 2)) > 0)[0]\n",
    "    new_markup = np.zeros_like(markup)\n",
    "    for slice_id in range(slices_marked[0]+1, slices_marked[-1]):\n",
    "        new_markup[slice_id] = markup[slices_marked[np.argmin(np.abs(slices_marked - slice_id))]]\n",
    "    \n",
    "    return new_markup"
   ]
  },
  {
   "cell_type": "code",
   "execution_count": 7,
   "id": "052d9c49",
   "metadata": {},
   "outputs": [
    {
     "data": {
      "application/vnd.jupyter.widget-view+json": {
       "model_id": "bcbe384bd2684462bae723c14042d90c",
       "version_major": 2,
       "version_minor": 0
      },
      "text/plain": [
       "  0%|          | 0/24 [00:00<?, ?it/s]"
      ]
     },
     "metadata": {},
     "output_type": "display_data"
    },
    {
     "ename": "NameError",
     "evalue": "name 'np' is not defined",
     "output_type": "error",
     "traceback": [
      "\u001b[0;31m---------------------------------------------------------------------------\u001b[0m",
      "\u001b[0;31mNameError\u001b[0m                                 Traceback (most recent call last)",
      "\u001b[0;32m/tmp/ipykernel_1647424/3332696740.py\u001b[0m in \u001b[0;36m<module>\u001b[0;34m\u001b[0m\n\u001b[1;32m      4\u001b[0m     \u001b[0mall_ious\u001b[0m\u001b[0;34m.\u001b[0m\u001b[0mappend\u001b[0m\u001b[0;34m(\u001b[0m\u001b[0mcalculate_volumetric_error\u001b[0m\u001b[0;34m(\u001b[0m\u001b[0mprediction_addr\u001b[0m\u001b[0;34m,\u001b[0m \u001b[0mlabel_addr\u001b[0m\u001b[0;34m)\u001b[0m\u001b[0;34m)\u001b[0m\u001b[0;34m\u001b[0m\u001b[0;34m\u001b[0m\u001b[0m\n\u001b[1;32m      5\u001b[0m \u001b[0;34m\u001b[0m\u001b[0m\n\u001b[0;32m----> 6\u001b[0;31m \u001b[0mnp\u001b[0m\u001b[0;34m.\u001b[0m\u001b[0mstack\u001b[0m\u001b[0;34m(\u001b[0m\u001b[0mall_ious\u001b[0m\u001b[0;34m)\u001b[0m\u001b[0;34m.\u001b[0m\u001b[0mmean\u001b[0m\u001b[0;34m(\u001b[0m\u001b[0;36m1\u001b[0m\u001b[0;34m)\u001b[0m\u001b[0;34m.\u001b[0m\u001b[0mmean\u001b[0m\u001b[0;34m(\u001b[0m\u001b[0;34m)\u001b[0m\u001b[0;34m,\u001b[0m \u001b[0mnp\u001b[0m\u001b[0;34m.\u001b[0m\u001b[0mstack\u001b[0m\u001b[0;34m(\u001b[0m\u001b[0mall_ious\u001b[0m\u001b[0;34m)\u001b[0m\u001b[0;34m.\u001b[0m\u001b[0mmean\u001b[0m\u001b[0;34m(\u001b[0m\u001b[0;36m1\u001b[0m\u001b[0;34m)\u001b[0m\u001b[0;34m.\u001b[0m\u001b[0mstd\u001b[0m\u001b[0;34m(\u001b[0m\u001b[0;34m)\u001b[0m\u001b[0;34m\u001b[0m\u001b[0;34m\u001b[0m\u001b[0m\n\u001b[0m",
      "\u001b[0;31mNameError\u001b[0m: name 'np' is not defined"
     ]
    }
   ],
   "source": [
    "all_ious = []\n",
    "for prediction_addr in tqdm(glob('/mnt/data/medaka/biomedisa_20/*.tif')):\n",
    "    label_addr = os.path.join('/mnt/data/medaka/eyes_to_train_full/', os.path.basename(prediction_addr))\n",
    "    all_ious.append(calculate_volumetric_error(prediction_addr, label_addr))\n",
    "    \n",
    "np.stack(all_ious).mean(1).mean(), np.stack(all_ious).mean(1).std()"
   ]
  },
  {
   "cell_type": "code",
   "execution_count": 9,
   "id": "3823ff40",
   "metadata": {},
   "outputs": [
    {
     "data": {
      "text/plain": [
       "(74.22277880511747, 5.458135538043727)"
      ]
     },
     "execution_count": 9,
     "metadata": {},
     "output_type": "execute_result"
    }
   ],
   "source": [
    "np.stack(all_ious).mean(1).mean(), np.stack(all_ious).mean(1).std()"
   ]
  },
  {
   "cell_type": "code",
   "execution_count": 10,
   "id": "f3fc18ea",
   "metadata": {},
   "outputs": [
    {
     "data": {
      "application/vnd.jupyter.widget-view+json": {
       "model_id": "264b0c69215d4e38979d423c3d18b89b",
       "version_major": 2,
       "version_minor": 0
      },
      "text/plain": [
       "  0%|          | 0/24 [00:00<?, ?it/s]"
      ]
     },
     "metadata": {},
     "output_type": "display_data"
    },
    {
     "data": {
      "text/plain": [
       "(76.143690111841, 4.959031728094516)"
      ]
     },
     "execution_count": 10,
     "metadata": {},
     "output_type": "execute_result"
    }
   ],
   "source": [
    "all_ious = []\n",
    "for prediction_addr in tqdm(glob('/mnt/data/medaka/biomedisa_10/*.tif')):\n",
    "    label_addr = os.path.join('/mnt/data/medaka/eyes_to_train_full/', os.path.basename(prediction_addr))\n",
    "    all_ious.append(calculate_volumetric_error(prediction_addr, label_addr))\n",
    "        \n",
    "np.stack(all_ious).mean(1).mean(), np.stack(all_ious).mean(1).std()"
   ]
  },
  {
   "cell_type": "code",
   "execution_count": 11,
   "id": "29a5bb7d",
   "metadata": {},
   "outputs": [
    {
     "data": {
      "application/vnd.jupyter.widget-view+json": {
       "model_id": "da18259e4e334f8c8d35474dc4b0bb7c",
       "version_major": 2,
       "version_minor": 0
      },
      "text/plain": [
       "  0%|          | 0/24 [00:00<?, ?it/s]"
      ]
     },
     "metadata": {},
     "output_type": "display_data"
    },
    {
     "data": {
      "text/plain": [
       "(76.4607894020204, 4.8345677124060344)"
      ]
     },
     "execution_count": 11,
     "metadata": {},
     "output_type": "execute_result"
    }
   ],
   "source": [
    "all_ious = []\n",
    "for prediction_addr in tqdm(glob('/mnt/data/medaka/biomedisa_5/*.tif')):\n",
    "    label_addr = os.path.join('/mnt/data/medaka/eyes_to_train_full/', os.path.basename(prediction_addr))\n",
    "    all_ious.append(calculate_volumetric_error(prediction_addr, label_addr))\n",
    "        \n",
    "np.stack(all_ious).mean(1).mean(), np.stack(all_ious).mean(1).std()"
   ]
  },
  {
   "cell_type": "code",
   "execution_count": 12,
   "id": "5b30c4d3",
   "metadata": {},
   "outputs": [
    {
     "data": {
      "application/vnd.jupyter.widget-view+json": {
       "model_id": "87b662e1ed5d41f4b6ba011ed94bcd3f",
       "version_major": 2,
       "version_minor": 0
      },
      "text/plain": [
       "  0%|          | 0/24 [00:00<?, ?it/s]"
      ]
     },
     "metadata": {},
     "output_type": "display_data"
    },
    {
     "data": {
      "text/plain": [
       "(49.31419345014118, 2.589584372171934)"
      ]
     },
     "execution_count": 12,
     "metadata": {},
     "output_type": "execute_result"
    }
   ],
   "source": [
    "all_ious = []\n",
    "for prediction_addr in tqdm(glob('/mnt/data/medaka/eyes_to_train_20/*.tif')):\n",
    "    label_addr = os.path.join('/mnt/data/medaka/eyes_to_train_full/', os.path.basename(prediction_addr))\n",
    "    prediction = interpolate_nearest_neighbour(imread(prediction_addr))\n",
    "    all_ious.append(calculate_volumetric_error(prediction, label_addr))\n",
    "        \n",
    "np.stack(all_ious).mean(1).mean(), np.stack(all_ious).mean(1).std()"
   ]
  },
  {
   "cell_type": "code",
   "execution_count": 13,
   "id": "eaa80404",
   "metadata": {},
   "outputs": [
    {
     "data": {
      "application/vnd.jupyter.widget-view+json": {
       "model_id": "71790dafc5944273b89bc93844404554",
       "version_major": 2,
       "version_minor": 0
      },
      "text/plain": [
       "  0%|          | 0/24 [00:00<?, ?it/s]"
      ]
     },
     "metadata": {},
     "output_type": "display_data"
    },
    {
     "data": {
      "text/plain": [
       "(67.30794405541896, 2.247394776133504)"
      ]
     },
     "execution_count": 13,
     "metadata": {},
     "output_type": "execute_result"
    }
   ],
   "source": [
    "all_ious = []\n",
    "for prediction_addr in tqdm(glob('/mnt/data/medaka/eyes_to_train_10/*.tif')):\n",
    "    label_addr = os.path.join('/mnt/data/medaka/eyes_to_train_full/', os.path.basename(prediction_addr))\n",
    "    prediction = interpolate_nearest_neighbour(imread(prediction_addr))\n",
    "    all_ious.append(calculate_volumetric_error(prediction, label_addr))\n",
    "        \n",
    "np.stack(all_ious).mean(1).mean(), np.stack(all_ious).mean(1).std()"
   ]
  },
  {
   "cell_type": "code",
   "execution_count": 14,
   "id": "1725a8ea",
   "metadata": {},
   "outputs": [
    {
     "data": {
      "application/vnd.jupyter.widget-view+json": {
       "model_id": "f7ba7d876fce4a1a9f094336682e1ff5",
       "version_major": 2,
       "version_minor": 0
      },
      "text/plain": [
       "  0%|          | 0/24 [00:00<?, ?it/s]"
      ]
     },
     "metadata": {},
     "output_type": "display_data"
    },
    {
     "data": {
      "text/plain": [
       "(81.1135008508026, 1.770820521714424)"
      ]
     },
     "execution_count": 14,
     "metadata": {},
     "output_type": "execute_result"
    }
   ],
   "source": [
    "all_ious = []\n",
    "for prediction_addr in tqdm(glob('/mnt/data/medaka/eyes_to_train_5/*.tif')):\n",
    "    label_addr = os.path.join('/mnt/data/medaka/eyes_to_train_full/', os.path.basename(prediction_addr))\n",
    "    prediction = interpolate_nearest_neighbour(imread(prediction_addr))\n",
    "    all_ious.append(calculate_volumetric_error(prediction, label_addr))\n",
    "        \n",
    "np.stack(all_ious).mean(1).mean(), np.stack(all_ious).mean(1).std()"
   ]
  }
 ],
 "metadata": {
  "kernelspec": {
   "display_name": "Python 3 (ipykernel)",
   "language": "python",
   "name": "python3"
  },
  "language_info": {
   "codemirror_mode": {
    "name": "ipython",
    "version": 3
   },
   "file_extension": ".py",
   "mimetype": "text/x-python",
   "name": "python",
   "nbconvert_exporter": "python",
   "pygments_lexer": "ipython3",
   "version": "3.9.7"
  }
 },
 "nbformat": 4,
 "nbformat_minor": 5
}
