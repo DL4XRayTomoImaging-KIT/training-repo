{
 "cells": [
  {
   "cell_type": "code",
   "execution_count": 1,
   "id": "66e72518",
   "metadata": {},
   "outputs": [],
   "source": [
    "from train import get_loaders"
   ]
  },
  {
   "cell_type": "code",
   "execution_count": 2,
   "id": "91bd32db",
   "metadata": {},
   "outputs": [],
   "source": [
    "import yaml"
   ]
  },
  {
   "cell_type": "code",
   "execution_count": 22,
   "id": "457b6ecd",
   "metadata": {},
   "outputs": [],
   "source": [
    "with open('training_configs/dataset/covid_randomized.yaml') as f:\n",
    "    dset_config = yaml.safe_load(f)"
   ]
  },
  {
   "cell_type": "code",
   "execution_count": 23,
   "id": "d6d9902e",
   "metadata": {
    "scrolled": true
   },
   "outputs": [
    {
     "data": {
      "text/plain": [
       "10000"
      ]
     },
     "execution_count": 23,
     "metadata": {},
     "output_type": "execute_result"
    }
   ],
   "source": [
    "dset_config.pop('test_upsample_to')"
   ]
  },
  {
   "cell_type": "code",
   "execution_count": 19,
   "id": "e22c7bdc",
   "metadata": {},
   "outputs": [],
   "source": [
    "dset_config['dataset_rebalance_kwargs'] = {'segmented_part': 0.1, 'empty_part':0}"
   ]
  },
  {
   "cell_type": "code",
   "execution_count": 26,
   "id": "89e30e8a",
   "metadata": {},
   "outputs": [],
   "source": [
    "dset_config['dataset_rebalance_kwargs'] = {'segmented_part': 1.0, 'empty_part':0}"
   ]
  },
  {
   "cell_type": "code",
   "execution_count": 27,
   "id": "90480070",
   "metadata": {},
   "outputs": [
    {
     "name": "stdout",
     "output_type": "stream",
     "text": [
      ">>>>>>>>>>>>>>>> loading datasets\n",
      "<<<<<<<<<<<<<<<< done in 2.0 sec.\n"
     ]
    }
   ],
   "source": [
    "loaders = get_loaders(**dset_config)"
   ]
  },
  {
   "cell_type": "code",
   "execution_count": 29,
   "id": "0d58ef7e",
   "metadata": {},
   "outputs": [
    {
     "data": {
      "text/plain": [
       "{'data_gatherer_kwargs': {'targets': '/mnt/LSDF/users/zharov/COVID19_1110/uniformly_named_masks/{}.tiff',\n",
       "  'volumes': '/mnt/LSDF/users/zharov/COVID19_1110/studies/prepared/{}.tiff'},\n",
       " 'aug_name': 'medium_aug_rot',\n",
       " 'test_aug': False,\n",
       " 'dataset_kwargs': {'crop_size': 512,\n",
       "  'mode_3d': False,\n",
       "  'one_volume_kwargs': {'use_ram': True},\n",
       "  'localised_crop': True},\n",
       " 'dataset_rebalance_function_name': 'TVSD_dataset_resample',\n",
       " 'dataset_rebalance_kwargs': {'segmented_part': 1.0, 'empty_part': 0},\n",
       " 'dataloader_kwargs': {'batch_size': 16}}"
      ]
     },
     "execution_count": 29,
     "metadata": {},
     "output_type": "execute_result"
    }
   ],
   "source": [
    "dset_config"
   ]
  },
  {
   "cell_type": "code",
   "execution_count": 28,
   "id": "d1cf357a",
   "metadata": {},
   "outputs": [
    {
     "data": {
      "text/plain": [
       "700"
      ]
     },
     "execution_count": 28,
     "metadata": {},
     "output_type": "execute_result"
    }
   ],
   "source": [
    "len(loaders[0]['train'].dataset)"
   ]
  }
 ],
 "metadata": {
  "kernelspec": {
   "display_name": "Python 3 (ipykernel)",
   "language": "python",
   "name": "python3"
  },
  "language_info": {
   "codemirror_mode": {
    "name": "ipython",
    "version": 3
   },
   "file_extension": ".py",
   "mimetype": "text/x-python",
   "name": "python",
   "nbconvert_exporter": "python",
   "pygments_lexer": "ipython3",
   "version": "3.9.7"
  }
 },
 "nbformat": 4,
 "nbformat_minor": 5
}
