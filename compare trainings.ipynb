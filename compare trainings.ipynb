{
 "cells": [
  {
   "cell_type": "code",
   "execution_count": 1,
   "metadata": {},
   "outputs": [],
   "source": [
    "from train import get_loaders"
   ]
  },
  {
   "cell_type": "code",
   "execution_count": 6,
   "metadata": {},
   "outputs": [],
   "source": [
    "import yaml, json\n",
    "from glob import glob"
   ]
  },
  {
   "cell_type": "code",
   "execution_count": null,
   "metadata": {},
   "outputs": [],
   "source": [
    "with open('training_configs/dataset/')"
   ]
  },
  {
   "cell_type": "code",
   "execution_count": 35,
   "metadata": {},
   "outputs": [],
   "source": [
    "part='0.1'\n",
    "# all_metrics = glob(f'/home/ws/tb0536/logs/medaka-supervised/2021-11-05_16-46-07/*_+dataset.dataset_rebalance_kwargs.segmented_part={part},+dataset=eyes_randomized,+model=eyes_pfpn_sorting,attempts=*,logger.project_name=null/logdir/checkpoints/_metrics.json')\n",
    "all_metrics = glob(f'/home/ws/tb0536/logs/medaka-supervised/2021-11-05_17-51-19/*_+dataset.dataset_rebalance_kwargs.segmented_part={part},+dataset=eyes_randomized,+model=eyes_pfpn_simclr,attempts=*,logger.project_name=null/logdir/checkpoints/_metrics.json')"
   ]
  },
  {
   "cell_type": "code",
   "execution_count": 36,
   "metadata": {},
   "outputs": [
    {
     "name": "stdout",
     "output_type": "stream",
     "text": [
      "73.13193385663536\n",
      "73.17171814108984\n",
      "73.59388636806271\n",
      "73.13736884561683\n",
      "73.21652540501415\n"
     ]
    }
   ],
   "source": [
    "for metric in all_metrics:\n",
    "    with open(metric) as f:\n",
    "        metric_data = json.load(f)\n",
    "    print(metric_data['best']['mean-iou'])"
   ]
  }
 ],
 "metadata": {
  "kernelspec": {
   "display_name": "Python 3",
   "language": "python",
   "name": "python3"
  },
  "language_info": {
   "codemirror_mode": {
    "name": "ipython",
    "version": 3
   },
   "file_extension": ".py",
   "mimetype": "text/x-python",
   "name": "python",
   "nbconvert_exporter": "python",
   "pygments_lexer": "ipython3",
   "version": "3.7.3"
  }
 },
 "nbformat": 4,
 "nbformat_minor": 2
}
