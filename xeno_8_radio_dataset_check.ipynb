{
 "cells": [
  {
   "cell_type": "code",
   "execution_count": 1,
   "id": "bc7f9802",
   "metadata": {},
   "outputs": [],
   "source": [
    "from src.loaders import generic_loaders\n",
    "import yaml"
   ]
  },
  {
   "cell_type": "code",
   "execution_count": 2,
   "id": "081827cc",
   "metadata": {},
   "outputs": [],
   "source": [
    "with open('training_configs/dataset/gatherers/xeno_radio_verg_8.yaml') as f:\n",
    "    gt_cfg = yaml.safe_load(f)\n",
    "with open('training_configs/dataset/datasets/n2s_05_both.yaml') as f:\n",
    "    dt_cfg = yaml.safe_load(f)"
   ]
  },
  {
   "cell_type": "code",
   "execution_count": 5,
   "id": "fe6b22df",
   "metadata": {},
   "outputs": [
    {
     "name": "stdout",
     "output_type": "stream",
     "text": [
      "CPU times: user 679 ms, sys: 58.5 s, total: 59.1 s\n",
      "Wall time: 2min 19s\n"
     ]
    }
   ],
   "source": [
    "%%time\n",
    "dldr = generic_loaders(gt_cfg, dt_cfg, 42)"
   ]
  },
  {
   "cell_type": "code",
   "execution_count": 6,
   "id": "7c3456e6",
   "metadata": {},
   "outputs": [
    {
     "data": {
      "text/plain": [
       "({'train': <torch.utils.data.dataloader.DataLoader at 0x7fdeda2a6f70>,\n",
       "  'valid': <torch.utils.data.dataloader.DataLoader at 0x7fdfec60af40>},\n",
       " {})"
      ]
     },
     "execution_count": 6,
     "metadata": {},
     "output_type": "execute_result"
    }
   ],
   "source": [
    "dldr[]"
   ]
  }
 ],
 "metadata": {
  "kernelspec": {
   "display_name": "Python 3 (ipykernel)",
   "language": "python",
   "name": "python3"
  },
  "language_info": {
   "codemirror_mode": {
    "name": "ipython",
    "version": 3
   },
   "file_extension": ".py",
   "mimetype": "text/x-python",
   "name": "python",
   "nbconvert_exporter": "python",
   "pygments_lexer": "ipython3",
   "version": "3.9.7"
  }
 },
 "nbformat": 4,
 "nbformat_minor": 5
}
