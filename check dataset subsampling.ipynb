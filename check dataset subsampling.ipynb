{
 "cells": [
  {
   "cell_type": "code",
   "execution_count": 1,
   "metadata": {},
   "outputs": [],
   "source": [
    "from train import get_loaders"
   ]
  },
  {
   "cell_type": "code",
   "execution_count": 2,
   "metadata": {},
   "outputs": [],
   "source": [
    "import yaml\n",
    "from pprint import pprint"
   ]
  },
  {
   "cell_type": "code",
   "execution_count": 3,
   "metadata": {},
   "outputs": [],
   "source": [
    "with open('training_configs/dataset/eyes_randomized.yaml') as f:\n",
    "    ds_config = yaml.safe_load(f)"
   ]
  },
  {
   "cell_type": "code",
   "execution_count": 4,
   "metadata": {},
   "outputs": [
    {
     "name": "stdout",
     "output_type": "stream",
     "text": [
      "{'aug_name': 'medium_aug_rot',\n",
      " 'data_gatherer_kwargs': {'targets': '/mnt/HD-LSDF/Medaka/segmentations/workshop/eyes_to_train/{}.nii',\n",
      "                          'volumes': '/mnt/HD-LSDF/Medaka/segmentations/workshop/proper_images/{}.tif'},\n",
      " 'dataloader_kwargs': {'batch_size': 16},\n",
      " 'dataset_kwargs': {'crop_size': 512,\n",
      "                    'label_converter': {'0': 0,\n",
      "                                        '1': 1,\n",
      "                                        '10': 5,\n",
      "                                        '11': 6,\n",
      "                                        '12': 6,\n",
      "                                        '2': 1,\n",
      "                                        '3': 0,\n",
      "                                        '4': 0,\n",
      "                                        '5': 3,\n",
      "                                        '6': 3,\n",
      "                                        '7': 4,\n",
      "                                        '8': 4,\n",
      "                                        '9': 5},\n",
      "                    'localised_crop': True,\n",
      "                    'mode_3d': False,\n",
      "                    'one_volume_kwargs': {'use_ram': True}},\n",
      " 'dataset_rebalance_function_name': 'TVSD_dataset_resample'}\n"
     ]
    }
   ],
   "source": [
    "pprint(ds_config)"
   ]
  },
  {
   "cell_type": "code",
   "execution_count": 5,
   "metadata": {},
   "outputs": [],
   "source": [
    "ds_config['dataset_rebalance_kwargs'] = {'segmented_part':0.005, 'multiple_datasets_mode': 'default'}\n",
    "ds_config['dataloader_kwargs']['drop_last'] = False"
   ]
  },
  {
   "cell_type": "code",
   "execution_count": 6,
   "metadata": {},
   "outputs": [
    {
     "name": "stdout",
     "output_type": "stream",
     "text": [
      ">>>>>>>>>>>>>>>> loading datasets\n",
      "<<<<<<<<<<<<<<<< done in 534 sec.\n",
      "CPU times: user 4min 20s, sys: 1min 15s, total: 5min 35s\n",
      "Wall time: 8min 54s\n"
     ]
    }
   ],
   "source": [
    "%%time\n",
    "train_loader, test_loader = get_loaders(**ds_config)"
   ]
  },
  {
   "cell_type": "code",
   "execution_count": 7,
   "metadata": {},
   "outputs": [
    {
     "data": {
      "text/plain": [
       "(1, 76)"
      ]
     },
     "execution_count": 7,
     "metadata": {},
     "output_type": "execute_result"
    }
   ],
   "source": [
    "len(train_loader), len(test_loader)"
   ]
  },
  {
   "cell_type": "code",
   "execution_count": 8,
   "metadata": {},
   "outputs": [
    {
     "data": {
      "text/plain": [
       "16"
      ]
     },
     "execution_count": 8,
     "metadata": {},
     "output_type": "execute_result"
    }
   ],
   "source": [
    "len(train_loader.dataset)"
   ]
  }
 ],
 "metadata": {
  "kernelspec": {
   "display_name": "Python 3",
   "language": "python",
   "name": "python3"
  },
  "language_info": {
   "codemirror_mode": {
    "name": "ipython",
    "version": 3
   },
   "file_extension": ".py",
   "mimetype": "text/x-python",
   "name": "python",
   "nbconvert_exporter": "python",
   "pygments_lexer": "ipython3",
   "version": "3.7.9"
  }
 },
 "nbformat": 4,
 "nbformat_minor": 2
}
