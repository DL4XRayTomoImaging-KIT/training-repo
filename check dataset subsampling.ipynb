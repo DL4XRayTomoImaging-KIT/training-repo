{
 "cells": [
  {
   "cell_type": "code",
   "execution_count": 2,
   "metadata": {},
   "outputs": [],
   "source": [
    "from train import get_loaders"
   ]
  },
  {
   "cell_type": "code",
   "execution_count": 3,
   "metadata": {},
   "outputs": [],
   "source": [
    "import yaml\n",
    "from pprint import pprint"
   ]
  },
  {
   "cell_type": "code",
   "execution_count": 4,
   "metadata": {},
   "outputs": [],
   "source": [
    "with open('training_configs/dataset/lungs_randomized.yaml') as f:\n",
    "    ds_config = yaml.safe_load(f)"
   ]
  },
  {
   "cell_type": "code",
   "execution_count": 5,
   "metadata": {
    "scrolled": true
   },
   "outputs": [
    {
     "name": "stdout",
     "output_type": "stream",
     "text": [
      "{'aug_name': 'medium_aug_rot',\n",
      " 'data_gatherer_kwargs': {'targets': '/mnt/LSDF/users/zharov/CTLungs/masks/{}.tiff',\n",
      "                          'volumes': '/mnt/LSDF/users/zharov/CTLungs/images/{}.tiff'},\n",
      " 'dataloader_kwargs': {'batch_size': 16, 'drop_last': False},\n",
      " 'dataset_kwargs': {'crop_size': 512,\n",
      "                    'localised_crop': True,\n",
      "                    'mode_3d': False,\n",
      "                    'one_volume_kwargs': {'use_ram': True}},\n",
      " 'dataset_rebalance_function_name': 'TVSD_dataset_resample',\n",
      " 'dataset_rebalance_kwargs': {'multiple_datasets_mode': 'default'}}\n"
     ]
    }
   ],
   "source": [
    "pprint(ds_config)"
   ]
  },
  {
   "cell_type": "code",
   "execution_count": 6,
   "metadata": {},
   "outputs": [],
   "source": [
    "ds_config['dataset_rebalance_kwargs'] = {'segmented_part':0.005, 'multiple_datasets_mode': 'default'}"
   ]
  },
  {
   "cell_type": "code",
   "execution_count": 7,
   "metadata": {},
   "outputs": [
    {
     "name": "stdout",
     "output_type": "stream",
     "text": [
      ">>>>>>>>>>>>>>>> loading datasets\n",
      "<<<<<<<<<<<<<<<< done in 4.0 sec.\n",
      "CPU times: user 2.75 s, sys: 1.19 s, total: 3.94 s\n",
      "Wall time: 3.97 s\n"
     ]
    }
   ],
   "source": [
    "%%time\n",
    "train_loader, test_loader = get_loaders(**ds_config)"
   ]
  },
  {
   "cell_type": "code",
   "execution_count": 9,
   "metadata": {
    "scrolled": true
   },
   "outputs": [
    {
     "data": {
      "text/plain": [
       "(1, 53)"
      ]
     },
     "execution_count": 9,
     "metadata": {},
     "output_type": "execute_result"
    }
   ],
   "source": [
    "len(train_loader), len(test_loader)"
   ]
  },
  {
   "cell_type": "code",
   "execution_count": 8,
   "metadata": {},
   "outputs": [
    {
     "data": {
      "text/plain": [
       "11"
      ]
     },
     "execution_count": 8,
     "metadata": {},
     "output_type": "execute_result"
    }
   ],
   "source": [
    "len(train_loader.dataset)"
   ]
  },
  {
   "cell_type": "code",
   "execution_count": null,
   "metadata": {},
   "outputs": [],
   "source": [
    "from segmenetation_losses_pytorch import FocalLoss"
   ]
  }
 ],
 "metadata": {
  "kernelspec": {
   "display_name": "Python 3",
   "language": "python",
   "name": "python3"
  },
  "language_info": {
   "codemirror_mode": {
    "name": "ipython",
    "version": 3
   },
   "file_extension": ".py",
   "mimetype": "text/x-python",
   "name": "python",
   "nbconvert_exporter": "python",
   "pygments_lexer": "ipython3",
   "version": "3.7.9"
  }
 },
 "nbformat": 4,
 "nbformat_minor": 2
}
