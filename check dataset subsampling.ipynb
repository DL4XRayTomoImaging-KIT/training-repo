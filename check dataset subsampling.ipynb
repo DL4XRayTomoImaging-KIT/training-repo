{
 "cells": [
  {
   "cell_type": "code",
   "execution_count": 1,
   "metadata": {},
   "outputs": [],
   "source": [
    "from train import get_loaders"
   ]
  },
  {
   "cell_type": "code",
   "execution_count": 11,
   "metadata": {},
   "outputs": [],
   "source": [
    "import yaml\n",
    "from pprint import pprint"
   ]
  },
  {
   "cell_type": "code",
   "execution_count": 13,
   "metadata": {},
   "outputs": [],
   "source": [
    "with open('training_configs/dataset/eyes_randomized.yaml') as f:\n",
    "    ds_config = yaml.safe_load(f)"
   ]
  },
  {
   "cell_type": "code",
   "execution_count": 14,
   "metadata": {},
   "outputs": [
    {
     "name": "stdout",
     "output_type": "stream",
     "text": [
      "{'aug_name': 'medium_aug_rot',\n",
      " 'data_gatherer_kwargs': {'targets': '/mnt/HD-LSDF/Medaka/segmentations/workshop/eyes_to_train/{}.nii',\n",
      "                          'volumes': '/mnt/HD-LSDF/Medaka/segmentations/workshop/proper_images/{}.tif'},\n",
      " 'dataloader_kwargs': {'batch_size': 16},\n",
      " 'dataset_kwargs': {'crop_size': 512,\n",
      "                    'label_converter': {'0': 0,\n",
      "                                        '1': 1,\n",
      "                                        '10': 5,\n",
      "                                        '11': 6,\n",
      "                                        '12': 6,\n",
      "                                        '2': 1,\n",
      "                                        '3': 0,\n",
      "                                        '4': 0,\n",
      "                                        '5': 3,\n",
      "                                        '6': 3,\n",
      "                                        '7': 4,\n",
      "                                        '8': 4,\n",
      "                                        '9': 5},\n",
      "                    'localised_crop': True,\n",
      "                    'mode_3d': False,\n",
      "                    'one_volume_kwargs': {'use_ram': True}},\n",
      " 'dataset_rebalance_function_name': 'TVSD_dataset_resample'}\n"
     ]
    }
   ],
   "source": [
    "pprint(ds_config)"
   ]
  },
  {
   "cell_type": "code",
   "execution_count": 15,
   "metadata": {},
   "outputs": [],
   "source": [
    "ds_config['dataset_rebalance_kwargs'] = {'segmented_part':1.0}"
   ]
  },
  {
   "cell_type": "code",
   "execution_count": 17,
   "metadata": {},
   "outputs": [
    {
     "name": "stdout",
     "output_type": "stream",
     "text": [
      ">>>>>>>>>>>>>>>> loading datasets\n",
      "<<<<<<<<<<<<<<<< done in 454 sec.\n",
      "CPU times: user 4min 26s, sys: 3min 6s, total: 7min 32s\n",
      "Wall time: 7min 34s\n"
     ]
    }
   ],
   "source": [
    "%%time\n",
    "train_loader, test_loader = get_loaders(**ds_config)"
   ]
  },
  {
   "cell_type": "code",
   "execution_count": 21,
   "metadata": {},
   "outputs": [
    {
     "data": {
      "text/plain": [
       "[<TVSD.TVSD.VolumeSlicingDataset at 0x7f5fa4245d30>,\n",
       " <TVSD.TVSD.VolumeSlicingDataset at 0x7f5fa3fa5390>,\n",
       " <TVSD.TVSD.VolumeSlicingDataset at 0x7f5fa3fb9470>,\n",
       " <TVSD.TVSD.VolumeSlicingDataset at 0x7f5fa4211358>,\n",
       " <TVSD.TVSD.VolumeSlicingDataset at 0x7f5fa42325f8>,\n",
       " <TVSD.TVSD.VolumeSlicingDataset at 0x7f60e52ae8d0>]"
      ]
     },
     "execution_count": 21,
     "metadata": {},
     "output_type": "execute_result"
    }
   ],
   "source": [
    "test_loader.dataset.dataset.datasets"
   ]
  },
  {
   "cell_type": "code",
   "execution_count": 18,
   "metadata": {},
   "outputs": [
    {
     "data": {
      "text/plain": [
       "72"
      ]
     },
     "execution_count": 18,
     "metadata": {},
     "output_type": "execute_result"
    }
   ],
   "source": [
    "len(test_loader)"
   ]
  }
 ],
 "metadata": {
  "kernelspec": {
   "display_name": "Python 3",
   "language": "python",
   "name": "python3"
  },
  "language_info": {
   "codemirror_mode": {
    "name": "ipython",
    "version": 3
   },
   "file_extension": ".py",
   "mimetype": "text/x-python",
   "name": "python",
   "nbconvert_exporter": "python",
   "pygments_lexer": "ipython3",
   "version": "3.7.3"
  }
 },
 "nbformat": 4,
 "nbformat_minor": 2
}
