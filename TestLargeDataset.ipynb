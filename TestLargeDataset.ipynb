{
 "cells": [
  {
   "cell_type": "code",
   "execution_count": 3,
   "id": "5dcc5caf",
   "metadata": {},
   "outputs": [],
   "source": [
    "from src.loaders import generic_loaders"
   ]
  },
  {
   "cell_type": "code",
   "execution_count": 4,
   "id": "5b131796",
   "metadata": {},
   "outputs": [],
   "source": [
    "import yaml"
   ]
  },
  {
   "cell_type": "code",
   "execution_count": 5,
   "id": "0c4aa0be",
   "metadata": {},
   "outputs": [],
   "source": [
    "with open('training_configs/dataset/eyes_sorting_250.yaml') as f:\n",
    "     cfg = yaml.safe_load(f)"
   ]
  },
  {
   "cell_type": "code",
   "execution_count": 7,
   "id": "1ea4f57c",
   "metadata": {},
   "outputs": [
    {
     "name": "stdout",
     "output_type": "stream",
     "text": [
      "CPU times: user 1.52 s, sys: 7min 36s, total: 7min 38s\n",
      "Wall time: 9min 2s\n"
     ]
    }
   ],
   "source": [
    "%%time\n",
    "data = generic_loaders(**cfg)"
   ]
  },
  {
   "cell_type": "code",
   "execution_count": 18,
   "id": "daa45a0b",
   "metadata": {},
   "outputs": [
    {
     "data": {
      "text/plain": [
       "187"
      ]
     },
     "execution_count": 18,
     "metadata": {},
     "output_type": "execute_result"
    }
   ],
   "source": [
    "len(data[0]['train'].dataset.datasets)"
   ]
  },
  {
   "cell_type": "code",
   "execution_count": 28,
   "id": "54e98757",
   "metadata": {},
   "outputs": [],
   "source": [
    "lens = [len(d) for d in data[0]['train'].dataset.datasets]"
   ]
  },
  {
   "cell_type": "code",
   "execution_count": 32,
   "id": "45630cf1",
   "metadata": {},
   "outputs": [],
   "source": [
    "import numpy as np\n",
    "\n",
    "from matplotlib import pyplot as plt\n",
    "%matplotlib inline"
   ]
  },
  {
   "cell_type": "code",
   "execution_count": 31,
   "id": "34eb2f97",
   "metadata": {},
   "outputs": [
    {
     "data": {
      "text/plain": [
       "(array([ 3.,  1.,  3., 13., 45., 78., 25., 11.,  4.,  4.]),\n",
       " array([ 272. ,  627.2,  982.4, 1337.6, 1692.8, 2048. , 2403.2, 2758.4,\n",
       "        3113.6, 3468.8, 3824. ]),\n",
       " <BarContainer object of 10 artists>)"
      ]
     },
     "execution_count": 31,
     "metadata": {},
     "output_type": "execute_result"
    },
    {
     "data": {
      "image/png": "[encoded data removed]",
      "text/plain": [
       "<Figure size 432x288 with 1 Axes>"
      ]
     },
     "metadata": {
      "needs_background": "light"
     },
     "output_type": "display_data"
    }
   ],
   "source": [
    "plt.hist(lens)"
   ]
  }
 ],
 "metadata": {
  "kernelspec": {
   "display_name": "Python 3 (ipykernel)",
   "language": "python",
   "name": "python3"
  },
  "language_info": {
   "codemirror_mode": {
    "name": "ipython",
    "version": 3
   },
   "file_extension": ".py",
   "mimetype": "text/x-python",
   "name": "python",
   "nbconvert_exporter": "python",
   "pygments_lexer": "ipython3",
   "version": "3.9.7"
  }
 },
 "nbformat": 4,
 "nbformat_minor": 5
}
