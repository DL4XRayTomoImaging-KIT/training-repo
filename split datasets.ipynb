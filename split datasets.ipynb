{
 "cells": [
  {
   "cell_type": "code",
   "execution_count": 20,
   "id": "80d9cbd1",
   "metadata": {},
   "outputs": [],
   "source": [
    "from glob import glob\n",
    "from tqdm.auto import tqdm\n",
    "from univread import read as imread\n",
    "import os\n",
    "import numpy as np\n",
    "import tifffile"
   ]
  },
  {
   "cell_type": "code",
   "execution_count": 5,
   "id": "7b2379a7",
   "metadata": {},
   "outputs": [],
   "source": [
    "examples = glob('/mnt/HD-LSDF/Xenopus/2021_11_Xenopus/test_janes/Xenopus_*_v2')"
   ]
  },
  {
   "cell_type": "code",
   "execution_count": 19,
   "id": "dbab3267",
   "metadata": {},
   "outputs": [],
   "source": [
    "names = ['1', '4', '8', '12', '16']"
   ]
  },
  {
   "cell_type": "code",
   "execution_count": 21,
   "id": "690365a5",
   "metadata": {},
   "outputs": [
    {
     "data": {
      "application/vnd.jupyter.widget-view+json": {
       "model_id": "",
       "version_major": 2,
       "version_minor": 0
      },
      "text/plain": [
       "  0%|          | 0/10 [00:00<?, ?it/s]"
      ]
     },
     "metadata": {},
     "output_type": "display_data"
    },
    {
     "data": {
      "application/vnd.jupyter.widget-view+json": {
       "model_id": "",
       "version_major": 2,
       "version_minor": 0
      },
      "text/plain": [
       "  0%|          | 0/5 [00:00<?, ?it/s]"
      ]
     },
     "metadata": {},
     "output_type": "display_data"
    },
    {
     "data": {
      "application/vnd.jupyter.widget-view+json": {
       "model_id": "",
       "version_major": 2,
       "version_minor": 0
      },
      "text/plain": [
       "  0%|          | 0/5 [00:00<?, ?it/s]"
      ]
     },
     "metadata": {},
     "output_type": "display_data"
    },
    {
     "data": {
      "application/vnd.jupyter.widget-view+json": {
       "model_id": "",
       "version_major": 2,
       "version_minor": 0
      },
      "text/plain": [
       "  0%|          | 0/5 [00:00<?, ?it/s]"
      ]
     },
     "metadata": {},
     "output_type": "display_data"
    },
    {
     "data": {
      "application/vnd.jupyter.widget-view+json": {
       "model_id": "",
       "version_major": 2,
       "version_minor": 0
      },
      "text/plain": [
       "  0%|          | 0/5 [00:00<?, ?it/s]"
      ]
     },
     "metadata": {},
     "output_type": "display_data"
    },
    {
     "data": {
      "application/vnd.jupyter.widget-view+json": {
       "model_id": "",
       "version_major": 2,
       "version_minor": 0
      },
      "text/plain": [
       "  0%|          | 0/5 [00:00<?, ?it/s]"
      ]
     },
     "metadata": {},
     "output_type": "display_data"
    },
    {
     "data": {
      "application/vnd.jupyter.widget-view+json": {
       "model_id": "",
       "version_major": 2,
       "version_minor": 0
      },
      "text/plain": [
       "  0%|          | 0/5 [00:00<?, ?it/s]"
      ]
     },
     "metadata": {},
     "output_type": "display_data"
    },
    {
     "data": {
      "application/vnd.jupyter.widget-view+json": {
       "model_id": "",
       "version_major": 2,
       "version_minor": 0
      },
      "text/plain": [
       "  0%|          | 0/5 [00:00<?, ?it/s]"
      ]
     },
     "metadata": {},
     "output_type": "display_data"
    },
    {
     "data": {
      "application/vnd.jupyter.widget-view+json": {
       "model_id": "",
       "version_major": 2,
       "version_minor": 0
      },
      "text/plain": [
       "  0%|          | 0/5 [00:00<?, ?it/s]"
      ]
     },
     "metadata": {},
     "output_type": "display_data"
    },
    {
     "data": {
      "application/vnd.jupyter.widget-view+json": {
       "model_id": "",
       "version_major": 2,
       "version_minor": 0
      },
      "text/plain": [
       "  0%|          | 0/5 [00:00<?, ?it/s]"
      ]
     },
     "metadata": {},
     "output_type": "display_data"
    },
    {
     "data": {
      "application/vnd.jupyter.widget-view+json": {
       "model_id": "",
       "version_major": 2,
       "version_minor": 0
      },
      "text/plain": [
       "  0%|          | 0/5 [00:00<?, ?it/s]"
      ]
     },
     "metadata": {},
     "output_type": "display_data"
    }
   ],
   "source": [
    "for foldername in tqdm(examples):\n",
    "    flats = imread(foldername+'/flats/')\n",
    "    darks = imread(foldername+'/darks/')\n",
    "    radios = imread(foldername+'/radios/')\n",
    "    \n",
    "    flats_r = flats.reshape((5, 200, 2016, 2016))\n",
    "    darks_r = darks.reshape((5, 200, 2016, 2016))\n",
    "    radios_r = np.moveaxis(radios.reshape((200, 5, 2016, 2016)), 1, 0)\n",
    "    \n",
    "    for i in tqdm(range(5), leave=False):\n",
    "        os.makedirs(foldername+f'/{names[i]}/flats')\n",
    "        os.makedirs(foldername+f'/{names[i]}/darks')\n",
    "        os.makedirs(foldername+f'/{names[i]}/radios')\n",
    "        \n",
    "        tifffile.imsave(foldername+f'/{names[i]}/flats/0.tif', flats_r[i])\n",
    "        tifffile.imsave(foldername+f'/{names[i]}/darks/0.tif', darks_r[i])\n",
    "        tifffile.imsave(foldername+f'/{names[i]}/radios/0.tif', radios_r[i])"
   ]
  },
  {
   "cell_type": "code",
   "execution_count": null,
   "id": "16ceebc8",
   "metadata": {},
   "outputs": [],
   "source": [
    "for folder_name in tqdm(examples):\n",
    "    for sampling_name in tqdm(names, leave=False):\n",
    "        os.system(f'cd {folder_name}/{sampling_name}; tofu flatcorrect --darks darks/0.tif --flats flats/0.tif  --projections radios/0.tif --fix-nan-and-inf --absorptivity --output radios_corrected/0.tif')"
   ]
  },
  {
   "cell_type": "code",
   "execution_count": 22,
   "id": "c5f0ba62",
   "metadata": {},
   "outputs": [],
   "source": [
    "from skimage.morphology import disk\n",
    "from skimage.exposure import rescale_intensity\n",
    "\n",
    "def get_random_voxels(img, count):\n",
    "    return img[tuple([np.random.randint(0, img.shape[i], count) for i in range(img.ndim)])]\n",
    "\n",
    "CHUNK_SIZE = 256\n",
    "import dask.array as da\n",
    "from skimage.exposure import rescale_intensity\n",
    "from functools import partial\n",
    "\n",
    "def scale_intensity_parallel(img, in_percentiles=(0.1, 99.9), out_range=(-1, 1)):\n",
    "    rs = get_random_voxels(img, 1_000_000)\n",
    "    f = np.percentile(rs, in_percentiles[0])\n",
    "    t = np.percentile(rs, in_percentiles[1])\n",
    "    \n",
    "    img = da.from_array(img, chunks=CHUNK_SIZE)\n",
    "    scaler = partial(rescale_intensity, in_range=(f,t), out_range=out_range)\n",
    "    img = img.map_blocks(scaler, dtype=img.dtype)\n",
    "    img = np.array(img, dtype=img.dtype)\n",
    "\n",
    "    return img\n",
    "\n",
    "def get_scaled_volume(v):\n",
    "    v_f = v.astype(np.float32)\n",
    "    return scale_intensity_parallel(v_f)"
   ]
  },
  {
   "cell_type": "code",
   "execution_count": 23,
   "id": "0c9e8c94",
   "metadata": {},
   "outputs": [
    {
     "data": {
      "application/vnd.jupyter.widget-view+json": {
       "model_id": "f9fcd770910f4911af4dc4fa0098d535",
       "version_major": 2,
       "version_minor": 0
      },
      "text/plain": [
       "  0%|          | 0/10 [00:00<?, ?it/s]"
      ]
     },
     "metadata": {},
     "output_type": "display_data"
    },
    {
     "data": {
      "application/vnd.jupyter.widget-view+json": {
       "model_id": "",
       "version_major": 2,
       "version_minor": 0
      },
      "text/plain": [
       "  0%|          | 0/5 [00:00<?, ?it/s]"
      ]
     },
     "metadata": {},
     "output_type": "display_data"
    },
    {
     "data": {
      "application/vnd.jupyter.widget-view+json": {
       "model_id": "",
       "version_major": 2,
       "version_minor": 0
      },
      "text/plain": [
       "  0%|          | 0/5 [00:00<?, ?it/s]"
      ]
     },
     "metadata": {},
     "output_type": "display_data"
    },
    {
     "data": {
      "application/vnd.jupyter.widget-view+json": {
       "model_id": "",
       "version_major": 2,
       "version_minor": 0
      },
      "text/plain": [
       "  0%|          | 0/5 [00:00<?, ?it/s]"
      ]
     },
     "metadata": {},
     "output_type": "display_data"
    },
    {
     "data": {
      "application/vnd.jupyter.widget-view+json": {
       "model_id": "",
       "version_major": 2,
       "version_minor": 0
      },
      "text/plain": [
       "  0%|          | 0/5 [00:00<?, ?it/s]"
      ]
     },
     "metadata": {},
     "output_type": "display_data"
    },
    {
     "data": {
      "application/vnd.jupyter.widget-view+json": {
       "model_id": "",
       "version_major": 2,
       "version_minor": 0
      },
      "text/plain": [
       "  0%|          | 0/5 [00:00<?, ?it/s]"
      ]
     },
     "metadata": {},
     "output_type": "display_data"
    },
    {
     "data": {
      "application/vnd.jupyter.widget-view+json": {
       "model_id": "",
       "version_major": 2,
       "version_minor": 0
      },
      "text/plain": [
       "  0%|          | 0/5 [00:00<?, ?it/s]"
      ]
     },
     "metadata": {},
     "output_type": "display_data"
    },
    {
     "data": {
      "application/vnd.jupyter.widget-view+json": {
       "model_id": "",
       "version_major": 2,
       "version_minor": 0
      },
      "text/plain": [
       "  0%|          | 0/5 [00:00<?, ?it/s]"
      ]
     },
     "metadata": {},
     "output_type": "display_data"
    },
    {
     "data": {
      "application/vnd.jupyter.widget-view+json": {
       "model_id": "",
       "version_major": 2,
       "version_minor": 0
      },
      "text/plain": [
       "  0%|          | 0/5 [00:00<?, ?it/s]"
      ]
     },
     "metadata": {},
     "output_type": "display_data"
    },
    {
     "data": {
      "application/vnd.jupyter.widget-view+json": {
       "model_id": "",
       "version_major": 2,
       "version_minor": 0
      },
      "text/plain": [
       "  0%|          | 0/5 [00:00<?, ?it/s]"
      ]
     },
     "metadata": {},
     "output_type": "display_data"
    },
    {
     "data": {
      "application/vnd.jupyter.widget-view+json": {
       "model_id": "",
       "version_major": 2,
       "version_minor": 0
      },
      "text/plain": [
       "  0%|          | 0/5 [00:00<?, ?it/s]"
      ]
     },
     "metadata": {},
     "output_type": "display_data"
    }
   ],
   "source": [
    "for folder_name in tqdm(examples):\n",
    "    for sampling_name in tqdm(names, leave=False):\n",
    "        current_image = tifffile.imread(os.path.join(folder_name, sampling_name, 'radios_corrected', '0.tif'))\n",
    "        tifffile.imsave(os.path.join(folder_name, sampling_name, 'radios_corrected', 'scaled_0.tif'), get_scaled_volume(current_image))"
   ]
  },
  {
   "cell_type": "code",
   "execution_count": null,
   "id": "069e6d33",
   "metadata": {},
   "outputs": [],
   "source": []
  }
 ],
 "metadata": {
  "kernelspec": {
   "display_name": "Python 3 (ipykernel)",
   "language": "python",
   "name": "python3"
  },
  "language_info": {
   "codemirror_mode": {
    "name": "ipython",
    "version": 3
   },
   "file_extension": ".py",
   "mimetype": "text/x-python",
   "name": "python",
   "nbconvert_exporter": "python",
   "pygments_lexer": "ipython3",
   "version": "3.9.7"
  }
 },
 "nbformat": 4,
 "nbformat_minor": 5
}
