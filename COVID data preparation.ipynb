{
 "cells": [
  {
   "cell_type": "markdown",
   "metadata": {},
   "source": [
    "## Get data downloaded"
   ]
  },
  {
   "cell_type": "code",
   "execution_count": null,
   "metadata": {},
   "outputs": [],
   "source": [
    "!wget -P /mnt/data/machine-learning http://storage.yandexcloud.net/covid19.1110/prod/COVID19_1110.zip\n",
    "!unzip /mnt/data/machine-learning/COVID19_1110.zip -d /mnt/LSDF/users/zharov"
   ]
  },
  {
   "cell_type": "markdown",
   "metadata": {},
   "source": [
    "## Prepare unsupervised dataset"
   ]
  },
  {
   "cell_type": "code",
   "execution_count": 1,
   "metadata": {},
   "outputs": [
    {
     "name": "stdout",
     "output_type": "stream",
     "text": [
      "mkdir: cannot create directory ‘/mnt/LSDF/users/zharov/COVID19_1110/studies/prepared’: File exists\r\n"
     ]
    }
   ],
   "source": [
    "!mkdir /mnt/LSDF/users/zharov/COVID19_1110/studies/prepared"
   ]
  },
  {
   "cell_type": "code",
   "execution_count": 1,
   "metadata": {},
   "outputs": [],
   "source": [
    "import tifffile\n",
    "from medpy.io import load as medload\n",
    "import numpy as np\n",
    "from glob import glob\n",
    "from skimage.exposure import rescale_intensity\n",
    "from tqdm.auto import tqdm\n",
    "import os\n",
    "import re\n",
    "\n",
    "inner_medload = lambda a: np.swapaxes(medload(a)[0], 0, -1)"
   ]
  },
  {
   "cell_type": "code",
   "execution_count": 3,
   "metadata": {},
   "outputs": [],
   "source": [
    "all_addrs = glob('/mnt/LSDF/users/zharov/COVID19_1110/studies/CT-*/*.nii.gz')"
   ]
  },
  {
   "cell_type": "code",
   "execution_count": 4,
   "metadata": {},
   "outputs": [],
   "source": [
    "extract_experiment_id = re.compile(r'study_(\\d+).nii.gz')"
   ]
  },
  {
   "cell_type": "code",
   "execution_count": 5,
   "metadata": {},
   "outputs": [
    {
     "data": {
      "application/vnd.jupyter.widget-view+json": {
       "model_id": "85e3b167f3d14ec5aff674316fca5fc3",
       "version_major": 2,
       "version_minor": 0
      },
      "text/plain": [
       "HBox(children=(IntProgress(value=0, max=1110), HTML(value='')))"
      ]
     },
     "metadata": {},
     "output_type": "display_data"
    },
    {
     "name": "stdout",
     "output_type": "stream",
     "text": [
      "\n"
     ]
    }
   ],
   "source": [
    "for addr in tqdm(all_addrs):\n",
    "    img = inner_medload(addr)\n",
    "    filename = os.path.split(addr)[1]\n",
    "    experiment_id = extract_experiment_id.findall(filename)[0]\n",
    "    img = rescale_intensity(img, in_range=(-500, 500), out_range=(0, 255)).astype(np.uint8)\n",
    "    tifffile.imsave(f'/mnt/LSDF/users/zharov/COVID19_1110/studies/prepared/{experiment_id}.tiff', img)"
   ]
  },
  {
   "cell_type": "markdown",
   "metadata": {},
   "source": [
    "## Prepare supervised dataset"
   ]
  },
  {
   "cell_type": "code",
   "execution_count": 3,
   "metadata": {},
   "outputs": [],
   "source": [
    "import shutil"
   ]
  },
  {
   "cell_type": "code",
   "execution_count": 4,
   "metadata": {},
   "outputs": [],
   "source": [
    "extract_mask_id = re.compile(r'study_(\\d+)_mask.nii.gz')"
   ]
  },
  {
   "cell_type": "code",
   "execution_count": 5,
   "metadata": {},
   "outputs": [],
   "source": [
    "!mkdir /mnt/LSDF/users/zharov/COVID19_1110/uniformly_named_masks"
   ]
  },
  {
   "cell_type": "code",
   "execution_count": 7,
   "metadata": {},
   "outputs": [
    {
     "data": {
      "application/vnd.jupyter.widget-view+json": {
       "model_id": "7f5cdba5b7ee4985ba915e436c1855e0",
       "version_major": 2,
       "version_minor": 0
      },
      "text/plain": [
       "  0%|          | 0/50 [00:00<?, ?it/s]"
      ]
     },
     "metadata": {},
     "output_type": "display_data"
    }
   ],
   "source": [
    "for addr in tqdm(glob('/mnt/LSDF/users/zharov/COVID19_1110/masks/*.nii.gz')):\n",
    "    id = extract_mask_id.findall(os.path.split(addr)[1])[0]\n",
    "    shutil.copy(addr, f'/mnt/LSDF/users/zharov/COVID19_1110/uniformly_named_masks/{id}.nii.gz')"
   ]
  },
  {
   "cell_type": "code",
   "execution_count": 8,
   "metadata": {},
   "outputs": [
    {
     "data": {
      "text/plain": [
       "50"
      ]
     },
     "execution_count": 8,
     "metadata": {},
     "output_type": "execute_result"
    }
   ],
   "source": [
    "len(glob('/mnt/LSDF/users/zharov/COVID19_1110/uniformly_named_masks/*.nii.gz'))"
   ]
  },
  {
   "cell_type": "code",
   "execution_count": 9,
   "metadata": {},
   "outputs": [],
   "source": [
    "msk = inner_medload(addr)"
   ]
  },
  {
   "cell_type": "code",
   "execution_count": 13,
   "metadata": {},
   "outputs": [
    {
     "data": {
      "text/plain": [
       "((42, 512, 512),\n",
       " dtype('int16'),\n",
       " (array([0, 1], dtype=int16), array([10993839,    16209])))"
      ]
     },
     "execution_count": 13,
     "metadata": {},
     "output_type": "execute_result"
    }
   ],
   "source": [
    "msk.shape, msk.dtype, np.unique(msk, return_counts=True)"
   ]
  }
 ],
 "metadata": {
  "kernelspec": {
   "display_name": "Python 3",
   "language": "python",
   "name": "python3"
  },
  "language_info": {
   "codemirror_mode": {
    "name": "ipython",
    "version": 3
   },
   "file_extension": ".py",
   "mimetype": "text/x-python",
   "name": "python",
   "nbconvert_exporter": "python",
   "pygments_lexer": "ipython3",
   "version": "3.7.3"
  }
 },
 "nbformat": 4,
 "nbformat_minor": 2
}
