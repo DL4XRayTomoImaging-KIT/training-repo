{
 "cells": [
  {
   "cell_type": "markdown",
   "metadata": {},
   "source": [
    "# Prepare MosMedData\n",
    "\n",
    "## Get data downloaded"
   ]
  },
  {
   "cell_type": "code",
   "execution_count": null,
   "metadata": {},
   "outputs": [],
   "source": [
    "!wget -P /mnt/data/machine-learning http://storage.yandexcloud.net/covid19.1110/prod/COVID19_1110.zip\n",
    "!unzip /mnt/data/machine-learning/COVID19_1110.zip -d /mnt/LSDF/users/zharov"
   ]
  },
  {
   "cell_type": "markdown",
   "metadata": {},
   "source": [
    "## Prepare unsupervised dataset"
   ]
  },
  {
   "cell_type": "code",
   "execution_count": 1,
   "metadata": {},
   "outputs": [
    {
     "name": "stdout",
     "output_type": "stream",
     "text": [
      "mkdir: cannot create directory ‘/mnt/LSDF/users/zharov/COVID19_1110/studies/prepared’: File exists\r\n"
     ]
    }
   ],
   "source": [
    "!mkdir /mnt/LSDF/users/zharov/COVID19_1110/studies/prepared"
   ]
  },
  {
   "cell_type": "code",
   "execution_count": 4,
   "metadata": {},
   "outputs": [],
   "source": [
    "import tifffile\n",
    "from medpy.io import load as medload\n",
    "import numpy as np\n",
    "from glob import glob\n",
    "from skimage.exposure import rescale_intensity\n",
    "from tqdm.auto import tqdm\n",
    "import os\n",
    "import re\n",
    "\n",
    "inner_medload = lambda a: np.swapaxes(medload(a)[0], 0, -1)"
   ]
  },
  {
   "cell_type": "code",
   "execution_count": 2,
   "metadata": {},
   "outputs": [],
   "source": [
    "all_addrs = glob('/mnt/LSDF/users/zharov/COVID19_1110/studies/CT-*/*.nii.gz')"
   ]
  },
  {
   "cell_type": "code",
   "execution_count": 3,
   "metadata": {},
   "outputs": [
    {
     "data": {
      "text/plain": [
       "1110"
      ]
     },
     "execution_count": 3,
     "metadata": {},
     "output_type": "execute_result"
    }
   ],
   "source": [
    "len(all_addrs)"
   ]
  },
  {
   "cell_type": "code",
   "execution_count": 3,
   "metadata": {},
   "outputs": [],
   "source": [
    "extract_experiment_id = re.compile(r'study_(\\d+).nii.gz')"
   ]
  },
  {
   "cell_type": "code",
   "execution_count": 10,
   "metadata": {},
   "outputs": [
    {
     "data": {
      "application/vnd.jupyter.widget-view+json": {
       "model_id": "cf5369c5fe0c4933aa8b5cc70acdd7aa",
       "version_major": 2,
       "version_minor": 0
      },
      "text/plain": [
       "  0%|          | 0/1110 [00:00<?, ?it/s]"
      ]
     },
     "metadata": {},
     "output_type": "display_data"
    }
   ],
   "source": [
    "for addr in tqdm(all_addrs):\n",
    "    img = inner_medload(addr)\n",
    "    filename = os.path.split(addr)[1]\n",
    "    experiment_id = extract_experiment_id.findall(filename)[0]\n",
    "    img = rescale_intensity(img, in_range=(-900, 500), out_range=(0, 255)).astype(np.uint8)\n",
    "    tifffile.imsave(f'/mnt/LSDF/users/zharov/COVID19_1110/studies/prepared/{experiment_id}.tiff', img)"
   ]
  },
  {
   "cell_type": "markdown",
   "metadata": {},
   "source": [
    "### Prepare data >=32 slices"
   ]
  },
  {
   "cell_type": "code",
   "execution_count": 7,
   "metadata": {},
   "outputs": [],
   "source": [
    "!mkdir /mnt/LSDF/users/zharov/COVID19_1110/studies/prepared_32\n",
    "!cp -r /mnt/LSDF/users/zharov/COVID19_1110/studies/prepared/* /mnt/LSDF/users/zharov/COVID19_1110/studies/prepared_32"
   ]
  },
  {
   "cell_type": "code",
   "execution_count": 13,
   "metadata": {},
   "outputs": [
    {
     "name": "stdout",
     "output_type": "stream",
     "text": [
      "/mnt/LSDF/users/zharov/COVID19_1110/studies/prepared_32/0815.tiff\n",
      "/mnt/LSDF/users/zharov/COVID19_1110/studies/prepared_32/0793.tiff\n",
      "/mnt/LSDF/users/zharov/COVID19_1110/studies/prepared_32/0691.tiff\n",
      "/mnt/LSDF/users/zharov/COVID19_1110/studies/prepared_32/0409.tiff\n"
     ]
    }
   ],
   "source": [
    "lens = []\n",
    "for addr in glob('/mnt/LSDF/users/zharov/COVID19_1110/studies/prepared_32/*.tiff'):\n",
    "    if len(tifffile.TiffFile(addr).pages) < 32:\n",
    "        print(addr)\n",
    "        os.remove(addr)"
   ]
  },
  {
   "cell_type": "markdown",
   "metadata": {},
   "source": [
    "## Prepare supervised dataset"
   ]
  },
  {
   "cell_type": "code",
   "execution_count": 2,
   "metadata": {},
   "outputs": [],
   "source": [
    "extract_mask_id = re.compile(r'study_(\\d+)_mask.nii.gz')"
   ]
  },
  {
   "cell_type": "code",
   "execution_count": 3,
   "metadata": {},
   "outputs": [
    {
     "name": "stdout",
     "output_type": "stream",
     "text": [
      "mkdir: cannot create directory ‘/mnt/LSDF/users/zharov/COVID19_1110/uniformly_named_masks’: File exists\r\n"
     ]
    }
   ],
   "source": [
    "!mkdir /mnt/LSDF/users/zharov/COVID19_1110/uniformly_named_masks"
   ]
  },
  {
   "cell_type": "code",
   "execution_count": 3,
   "metadata": {},
   "outputs": [
    {
     "data": {
      "application/vnd.jupyter.widget-view+json": {
       "model_id": "fa2b109430bf4debb556939335385460",
       "version_major": 2,
       "version_minor": 0
      },
      "text/plain": [
       "  0%|          | 0/50 [00:00<?, ?it/s]"
      ]
     },
     "metadata": {},
     "output_type": "display_data"
    }
   ],
   "source": [
    "for addr in tqdm(glob('/mnt/LSDF/users/zharov/COVID19_1110/masks/*.nii.gz')):\n",
    "    id = extract_mask_id.findall(os.path.split(addr)[1])[0]\n",
    "    msk = inner_medload(addr).astype(np.uint8)\n",
    "    tifffile.imsave(f'/mnt/LSDF/users/zharov/COVID19_1110/uniformly_named_masks/{id}.tiff', msk)"
   ]
  },
  {
   "cell_type": "code",
   "execution_count": 4,
   "metadata": {},
   "outputs": [
    {
     "data": {
      "text/plain": [
       "50"
      ]
     },
     "execution_count": 4,
     "metadata": {},
     "output_type": "execute_result"
    }
   ],
   "source": [
    "len(glob('/mnt/LSDF/users/zharov/COVID19_1110/uniformly_named_masks/*.tiff'))"
   ]
  },
  {
   "cell_type": "markdown",
   "metadata": {},
   "source": [
    "# Prepare lungs dataset\n",
    "\n",
    "## Get data downloaded"
   ]
  },
  {
   "cell_type": "code",
   "execution_count": null,
   "metadata": {},
   "outputs": [],
   "source": [
    "!wget -P /mnt/data/machine-learning https://zenodo.org/record/3757476/files/Lung_Mask.zip\n",
    "!wget -P /mnt/data/machine-learning https://zenodo.org/record/3757476/files/COVID-19-CT-Seg_20cases.zip\n",
    "    \n",
    "!unzip /mnt/data/machine-learning/Lung_Mask.zip -d /mnt/LSDF/users/zharov/Lung_Masks\n",
    "!unzip /mnt/data/machine-learning/COVID-19-CT-Seg_20cases.zip -d /mnt/LSDF/users/zharov/COVID-19-CT-Seg_20cases"
   ]
  },
  {
   "cell_type": "code",
   "execution_count": 12,
   "metadata": {},
   "outputs": [],
   "source": [
    "!mkdir /mnt/LSDF/users/zharov/CTLungs\n",
    "!mkdir /mnt/LSDF/users/zharov/CTLungs/images\n",
    "!mkdir /mnt/LSDF/users/zharov/CTLungs/masks"
   ]
  },
  {
   "cell_type": "markdown",
   "metadata": {},
   "source": [
    "## Prepare images"
   ]
  },
  {
   "cell_type": "code",
   "execution_count": 5,
   "metadata": {},
   "outputs": [],
   "source": [
    "all_image_addrs = glob('/mnt/LSDF/users/zharov/COVID-19-CT-Seg_20cases/*.nii.gz')"
   ]
  },
  {
   "cell_type": "code",
   "execution_count": 7,
   "metadata": {},
   "outputs": [
    {
     "data": {
      "text/plain": [
       "20"
      ]
     },
     "execution_count": 7,
     "metadata": {},
     "output_type": "execute_result"
    }
   ],
   "source": [
    "len(all_image_addrs)"
   ]
  },
  {
   "cell_type": "code",
   "execution_count": 34,
   "metadata": {},
   "outputs": [
    {
     "data": {
      "application/vnd.jupyter.widget-view+json": {
       "model_id": "d0a042e8965b49bbbbbb1fe035735a7d",
       "version_major": 2,
       "version_minor": 0
      },
      "text/plain": [
       "  0%|          | 0/20 [00:00<?, ?it/s]"
      ]
     },
     "metadata": {},
     "output_type": "display_data"
    },
    {
     "name": "stdout",
     "output_type": "stream",
     "text": [
      "/mnt/LSDF/users/zharov/COVID-19-CT-Seg_20cases/coronacases_009.nii.gz conversion\n",
      "/mnt/LSDF/users/zharov/COVID-19-CT-Seg_20cases/coronacases_003.nii.gz conversion\n",
      "/mnt/LSDF/users/zharov/COVID-19-CT-Seg_20cases/coronacases_008.nii.gz conversion\n",
      "/mnt/LSDF/users/zharov/COVID-19-CT-Seg_20cases/coronacases_006.nii.gz conversion\n",
      "/mnt/LSDF/users/zharov/COVID-19-CT-Seg_20cases/coronacases_005.nii.gz conversion\n",
      "/mnt/LSDF/users/zharov/COVID-19-CT-Seg_20cases/coronacases_007.nii.gz conversion\n",
      "/mnt/LSDF/users/zharov/COVID-19-CT-Seg_20cases/coronacases_002.nii.gz conversion\n",
      "/mnt/LSDF/users/zharov/COVID-19-CT-Seg_20cases/coronacases_001.nii.gz conversion\n",
      "/mnt/LSDF/users/zharov/COVID-19-CT-Seg_20cases/coronacases_010.nii.gz conversion\n",
      "/mnt/LSDF/users/zharov/COVID-19-CT-Seg_20cases/coronacases_004.nii.gz conversion\n"
     ]
    }
   ],
   "source": [
    "for i, addr in tqdm(enumerate(all_image_addrs), total=len(all_image_addrs)):\n",
    "    img = inner_medload(addr)\n",
    "    if img.dtype == np.int16:\n",
    "        img = rescale_intensity(img, in_range=(-900, 500), out_range=(0, 255)).astype(np.uint8)\n",
    "    tifffile.imsave(f'/mnt/LSDF/users/zharov/CTLungs/images/{i}.tiff', img)"
   ]
  },
  {
   "cell_type": "markdown",
   "metadata": {},
   "source": [
    "## Prepare masks"
   ]
  },
  {
   "cell_type": "code",
   "execution_count": 32,
   "metadata": {},
   "outputs": [
    {
     "data": {
      "application/vnd.jupyter.widget-view+json": {
       "model_id": "5cd91779077b407f8f81d1806ffd428f",
       "version_major": 2,
       "version_minor": 0
      },
      "text/plain": [
       "  0%|          | 0/20 [00:00<?, ?it/s]"
      ]
     },
     "metadata": {},
     "output_type": "display_data"
    }
   ],
   "source": [
    "for i, addr in tqdm(enumerate(all_image_addrs), total=len(all_image_addrs)):\n",
    "    addr = os.path.join('/mnt/LSDF/users/zharov/Lung_Masks', os.path.split(addr)[1])\n",
    "    img = inner_medload(addr).astype(np.uint8)\n",
    "    tifffile.imsave(f'/mnt/LSDF/users/zharov/CTLungs/masks/{i}.tiff', img)"
   ]
  },
  {
   "cell_type": "code",
   "execution_count": 15,
   "metadata": {},
   "outputs": [
    {
     "data": {
      "text/plain": [
       "(3633, (2016, 2016))"
      ]
     },
     "execution_count": 15,
     "metadata": {},
     "output_type": "execute_result"
    }
   ],
   "source": [
    "all_medakas = glob('/mnt/LSDF/projects/code-vita/Medaka/2018_11/*/slices.tif')\n",
    "\n",
    ", tifffile.TiffFile(all_medakas[0]).pages[0].shape"
   ]
  },
  {
   "cell_type": "code",
   "execution_count": 17,
   "metadata": {},
   "outputs": [
    {
     "name": "stdout",
     "output_type": "stream",
     "text": [
      "3633\n",
      "6356\n",
      "7041\n",
      "5900\n",
      "6928\n",
      "5902\n",
      "7449\n",
      "6927\n",
      "6356\n",
      "6926\n",
      "3633\n",
      "6926\n",
      "6925\n",
      "5909\n",
      "3632\n",
      "6926\n",
      "6040\n",
      "4215\n",
      "6924\n",
      "6355\n",
      "7028\n",
      "5908\n",
      "6923\n",
      "6356\n",
      "6929\n",
      "6927\n",
      "5903\n",
      "6923\n",
      "5902\n",
      "6055\n"
     ]
    }
   ],
   "source": [
    "for i in all_medakas[:30]:\n",
    "    print(tifffile.TiffFile(i).pages.__len__())"
   ]
  },
  {
   "cell_type": "code",
   "execution_count": 27,
   "metadata": {},
   "outputs": [],
   "source": [
    "all_eyes = glob('/mnt/HD-LSDF/Medaka/segmentations/workshop/eye_decropped/*.tif')"
   ]
  },
  {
   "cell_type": "code",
   "execution_count": 26,
   "metadata": {},
   "outputs": [],
   "source": [
    "import re"
   ]
  },
  {
   "cell_type": "code",
   "execution_count": 42,
   "metadata": {},
   "outputs": [],
   "source": [
    "all_volumes = [re.findall('\\d{2}-(\\d{3,4}).tif', i)[0] for i in all_eyes]"
   ]
  },
  {
   "cell_type": "code",
   "execution_count": 45,
   "metadata": {},
   "outputs": [
    {
     "data": {
      "text/plain": [
       "(15, 21, (array(['508', '509', '511', '513', '515', '516', '671', '673', '674',\n",
       "         '675', '677', '803', '833', '834', '835'], dtype='<U3'),\n",
       "  array([1, 2, 2, 2, 1, 1, 2, 1, 1, 3, 1, 1, 1, 1, 1])))"
      ]
     },
     "execution_count": 45,
     "metadata": {},
     "output_type": "execute_result"
    }
   ],
   "source": [
    "len(np.unique(all_volumes)), len(all_eyes), np.unique(all_volumes, return_counts=True)"
   ]
  },
  {
   "cell_type": "code",
   "execution_count": null,
   "metadata": {},
   "outputs": [],
   "source": []
  }
 ],
 "metadata": {
  "kernelspec": {
   "display_name": "Python 3",
   "language": "python",
   "name": "python3"
  },
  "language_info": {
   "codemirror_mode": {
    "name": "ipython",
    "version": 3
   },
   "file_extension": ".py",
   "mimetype": "text/x-python",
   "name": "python",
   "nbconvert_exporter": "python",
   "pygments_lexer": "ipython3",
   "version": "3.7.3"
  }
 },
 "nbformat": 4,
 "nbformat_minor": 2
}
