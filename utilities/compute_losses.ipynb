{
 "cells": [
  {
   "cell_type": "code",
   "execution_count": 117,
   "id": "bca16940",
   "metadata": {},
   "outputs": [],
   "source": [
    "import json\n",
    "import tifffile\n",
    "import numpy as np\n",
    "from glob import glob\n",
    "from tqdm.auto import tqdm\n",
    "import matplotlib.pyplot as plt\n",
    "\n",
    "import torch\n",
    "import torchvision.transforms as T\n",
    "\n",
    "device = torch.device(\"cuda:0\" if torch.cuda.is_available() else \"cpu\")"
   ]
  },
  {
   "cell_type": "code",
   "execution_count": 118,
   "id": "1e1dc580",
   "metadata": {},
   "outputs": [],
   "source": [
    "import os\n",
    "os.chdir(\"/home/ws/er5241/Repos/training-repo/\")\n",
    "\n",
    "from inference import Segmenter\n",
    "from segmenetation_losses_pytorch import CrossentropyND\n",
    "\n",
    "criterion = CrossentropyND()"
   ]
  },
  {
   "cell_type": "code",
   "execution_count": 119,
   "id": "7dc2eef2",
   "metadata": {},
   "outputs": [
    {
     "name": "stdout",
     "output_type": "stream",
     "text": [
      ">>>>>>>>>>>>>>>> initializing model\n",
      "trainable parameters in model: 14323242\n",
      "<<<<<<<<<<<<<<<< done in 0.38 sec.\n",
      ">>>>>>>>>>>>>>>> loading checkpoint\n",
      "<<<<<<<<<<<<<<<< done in 0.084 sec.\n"
     ]
    }
   ],
   "source": [
    "# load non-merged  (2022-06-28_11-33-37)\n",
    "model = {'network_type': 'Unet', 'encoder_name': 'resnet18', 'classes': 10, 'in_channels': 1}\n",
    "checkpoint = {'checkpoint_addr': '/home/ws/er5241/logs/medaka-supervised/2022-06-28_11-33-37/logdir/checkpoints/best.pth',\n",
    "              'checkpoint_key': 'model_state_dict'}\n",
    "processing = {'batch_size': 1, 'dtype': 'uint8'}\n",
    "\n",
    "seger = Segmenter(model_config=model, checkpoint_config=checkpoint, processing_parameters=processing)"
   ]
  },
  {
   "cell_type": "code",
   "execution_count": 120,
   "id": "914daf8e",
   "metadata": {},
   "outputs": [
    {
     "data": {
      "text/plain": [
       "0"
      ]
     },
     "execution_count": 120,
     "metadata": {},
     "output_type": "execute_result"
    }
   ],
   "source": [
    "volumes = ['/mnt/HD-LSDF/Medaka/201905_beamtime_medaka_stained/*/scaled_0.5_8bit_slices.tif',\n",
    "           '/mnt/HD-LSDF/Medaka/201912_beamtime_medaka/*/scaled_0.5_8bit_slices.tif',\n",
    "           '/mnt/HD-LSDF/Medaka/202012_beamtime_medaka/*/scaled_0.5_8bit_slices.tif']\n",
    "  \n",
    "len(glob(volumes[0]))"
   ]
  },
  {
   "cell_type": "code",
   "execution_count": 72,
   "id": "d0eb5216",
   "metadata": {},
   "outputs": [],
   "source": [
    "fls = glob(volumes[0])\n",
    "transform = T.Resize((256,256))\n",
    "losses = {}\n",
    "\n",
    "def slc_transform(slc):\n",
    "  slc = torch.from_numpy(slc)\n",
    "  slc = torch.unsqueeze(slc, 0) # for channel dim\n",
    "  slc = transform(slc)\n",
    "  slc = torch.unsqueeze(slc, 0) # for batch dim\n",
    "  slc = slc.float()\n",
    "  return slc\n",
    "\n",
    "def bin_img(img):\n",
    "  bins, total_classes = 10, 256\n",
    "  binned_img = np.zeros_like(img)\n",
    "  for class_ in range(1, bins):\n",
    "    binned_img[img > int(class_ * (total_classes/bins))] = class_\n",
    "  return binned_img"
   ]
  },
  {
   "cell_type": "code",
   "execution_count": null,
   "id": "ebaf927b",
   "metadata": {},
   "outputs": [],
   "source": [
    "for img_addr in tqdm(fls):\n",
    "  losses[img_addr] = []\n",
    "  img = tifffile.imread(img_addr)\n",
    "  msk = bin_img(img)\n",
    "\n",
    "  img = img/256\n",
    "  \n",
    "  for slice_id, (img_slc, msk_slc) in enumerate(zip(img, msk)):\n",
    "    img_slc = slc_transform(img_slc)\n",
    "    msk_slc = slc_transform(msk_slc).to(device)\n",
    "\n",
    "    predn_slc = seger.model(img_slc)\n",
    "    loss = criterion(predn_slc, msk_slc)\n",
    "\n",
    "    losses[img_addr].append( loss.item() )"
   ]
  },
  {
   "cell_type": "code",
   "execution_count": 30,
   "id": "a6b00c21",
   "metadata": {},
   "outputs": [],
   "source": [
    "# with open('/home/ws/er5241/Repos/training-repo/utilities/autoenc_201905.json', 'w') as f:\n",
    "#     json.dump(losses, f)"
   ]
  },
  {
   "cell_type": "code",
   "execution_count": 121,
   "id": "413bd506",
   "metadata": {},
   "outputs": [],
   "source": [
    "# losses_1 = \"/home/ws/er5241/Repos/training-repo/utilities/autoenc_medaka_decropped.json\"\n",
    "# losses_2 = \"/home/ws/er5241/Repos/training-repo/utilities/autoenc_201905.json\"\n",
    "# losses_3 = \"/home/ws/er5241/Repos/training-repo/utilities/autoenc_201912.json\"\n",
    "# losses_4 = \"/home/ws/er5241/Repos/training-repo/utilities/autoenc_202012.json\"\n",
    "\n",
    "# losses = {}\n",
    "# for loss_json in [losses_1, losses_2, losses_3, losses_4]:\n",
    "#   with open(loss_json, 'r') as f:\n",
    "#     losses.update(json.load(f))\n",
    "    \n",
    "with open('/home/ws/er5241/Repos/training-repo/utilities/autoenc_losses.json', 'r') as f:\n",
    "    losses = (json.load(f))"
   ]
  },
  {
   "cell_type": "code",
   "execution_count": 122,
   "id": "c8754361",
   "metadata": {},
   "outputs": [],
   "source": [
    "loss_vals = []\n",
    "\n",
    "for addr in losses.values():\n",
    "  for slc in addr:\n",
    "    loss_vals.append(slc)"
   ]
  },
  {
   "cell_type": "code",
   "execution_count": 123,
   "id": "b5545b41",
   "metadata": {},
   "outputs": [
    {
     "data": {
      "text/plain": [
       "[<matplotlib.lines.Line2D at 0x7fd23f4d7d00>]"
      ]
     },
     "execution_count": 123,
     "metadata": {},
     "output_type": "execute_result"
    },
    {
     "data": {
      "image/png": "[encoded data removed]",
      "text/plain": [
       "<Figure size 432x288 with 1 Axes>"
      ]
     },
     "metadata": {
      "needs_background": "light"
     },
     "output_type": "display_data"
    }
   ],
   "source": [
    "plt.plot(loss_vals)"
   ]
  },
  {
   "cell_type": "code",
   "execution_count": 110,
   "id": "bf1646f8",
   "metadata": {},
   "outputs": [
    {
     "data": {
      "application/vnd.jupyter.widget-view+json": {
       "model_id": "cc7801a22d7f497593006a9b0333c9a8",
       "version_major": 2,
       "version_minor": 0
      },
      "text/plain": [
       "  0%|          | 0/200 [00:00<?, ?it/s]"
      ]
     },
     "metadata": {},
     "output_type": "display_data"
    },
    {
     "data": {
      "text/plain": [
       "[<matplotlib.lines.Line2D at 0x7fd051fed700>]"
      ]
     },
     "execution_count": 110,
     "metadata": {},
     "output_type": "execute_result"
    },
    {
     "data": {
      "image/png": "[encoded data removed]",
      "text/plain": [
       "<Figure size 432x288 with 1 Axes>"
      ]
     },
     "metadata": {
      "needs_background": "light"
     },
     "output_type": "display_data"
    }
   ],
   "source": [
    "x = np.linspace(1,100,200)\n",
    "y = np.array([np.percentile(loss_vals, i) for i in tqdm(x)])\n",
    "\n",
    "plt.plot(x,y)"
   ]
  },
  {
   "cell_type": "code",
   "execution_count": 127,
   "id": "59dcefed",
   "metadata": {},
   "outputs": [
    {
     "data": {
      "text/plain": [
       "0.9551808520101716"
      ]
     },
     "execution_count": 127,
     "metadata": {},
     "output_type": "execute_result"
    }
   ],
   "source": [
    "1-len([loss_val for loss_val in loss_vals if loss_val>3])/len(loss_vals)"
   ]
  },
  {
   "cell_type": "code",
   "execution_count": 131,
   "id": "5e914ccd",
   "metadata": {},
   "outputs": [
    {
     "data": {
      "text/plain": [
       "2.933961582183837"
      ]
     },
     "execution_count": 131,
     "metadata": {},
     "output_type": "execute_result"
    }
   ],
   "source": [
    "np.percentile(loss_vals, 95)"
   ]
  },
  {
   "cell_type": "markdown",
   "id": "b8f9f532",
   "metadata": {},
   "source": [
    "### check image"
   ]
  },
  {
   "cell_type": "code",
   "execution_count": 116,
   "id": "ad73d0d0",
   "metadata": {},
   "outputs": [
    {
     "name": "stdout",
     "output_type": "stream",
     "text": [
      "/mnt/HD-LSDF/Medaka/202012_beamtime_medaka/Medaka_1100_14-2/scaled_0.5_8bit_slices.tif 428 8.008149147033691\n"
     ]
    }
   ],
   "source": [
    "loss_thresh = 8\n",
    "\n",
    "for img_addr, loss_dict in losses.items():\n",
    "  for slice_id, slice_loss in enumerate(loss_dict):\n",
    "    if slice_loss >= loss_thresh:\n",
    "      print(img_addr, slice_id, slice_loss)"
   ]
  },
  {
   "cell_type": "code",
   "execution_count": 67,
   "id": "d06762f4",
   "metadata": {},
   "outputs": [
    {
     "name": "stdout",
     "output_type": "stream",
     "text": [
      "/mnt/HD-LSDF/Medaka/201905_beamtime_medaka_stained/Medaka_761_Ho5_old/scaled_0.5_8bit_slices.tif\n"
     ]
    }
   ],
   "source": [
    "img_addr = np.random.choice(list(losses.keys()))\n",
    "fish_id = img_addr.rsplit('/', 1)[-1]\n",
    "msk_addr = f\"{'/'.join(img_addr.split('/')[:-1])}/brain_scaled_0.5_8bit_slices.tif\"\n",
    "print(img_addr)\n",
    "\n",
    "problematic_slices = []\n",
    "for slice_id, slice_loss in losses[img_addr].items():\n",
    "  if slice_loss['loss'] >= loss_thresh:\n",
    "    problematic_slices.append(slice_id)\n",
    "\n",
    "if not problematic_slices:\n",
    "  print(f'no loss greater than {loss_thresh}')"
   ]
  },
  {
   "cell_type": "code",
   "execution_count": 68,
   "id": "d51ef084",
   "metadata": {},
   "outputs": [
    {
     "name": "stdout",
     "output_type": "stream",
     "text": [
      "[0, 1, 2, 3, 4, 5, 6, 7, 8, 9, 10, 11, 12, 13, 14, 16, 17, 18, 19, 20, 21, 22, 23, 24, 27, 28, 30, 31, 39, 40, 41, 43, 49, 50, 51, 53, 54, 55, 56, 57, 82, 2286, 2289, 2290]\n"
     ]
    }
   ],
   "source": [
    "print(problematic_slices)"
   ]
  },
  {
   "cell_type": "code",
   "execution_count": null,
   "id": "18e2f50e",
   "metadata": {},
   "outputs": [],
   "source": []
  }
 ],
 "metadata": {
  "kernelspec": {
   "display_name": "Python 3 (ipykernel)",
   "language": "python",
   "name": "python3"
  },
  "language_info": {
   "codemirror_mode": {
    "name": "ipython",
    "version": 3
   },
   "file_extension": ".py",
   "mimetype": "text/x-python",
   "name": "python",
   "nbconvert_exporter": "python",
   "pygments_lexer": "ipython3",
   "version": "3.9.12"
  }
 },
 "nbformat": 4,
 "nbformat_minor": 5
}
