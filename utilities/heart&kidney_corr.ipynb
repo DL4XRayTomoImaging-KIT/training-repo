{
 "cells": [
  {
   "cell_type": "code",
   "execution_count": 1,
   "metadata": {
    "colab": {
     "base_uri": "https://localhost:8080/"
    },
    "id": "iOr4ua9_o1n1",
    "outputId": "48c0547d-1dda-46c3-a8f2-b6c44807efc3"
   },
   "outputs": [
    {
     "name": "stdout",
     "output_type": "stream",
     "text": [
      "Collecting pynrrd\n",
      "  Downloading pynrrd-0.4.2-py2.py3-none-any.whl (18 kB)\n",
      "Requirement already satisfied: numpy>=1.11.1 in /usr/local/lib/python3.7/dist-packages (from pynrrd) (1.19.5)\n",
      "Installing collected packages: pynrrd\n",
      "Successfully installed pynrrd-0.4.2\n",
      "Collecting medpy\n",
      "  Downloading MedPy-0.4.0.tar.gz (151 kB)\n",
      "\u001b[K     |████████████████████████████████| 151 kB 5.4 MB/s \n",
      "\u001b[?25hRequirement already satisfied: scipy>=1.1.0 in /usr/local/lib/python3.7/dist-packages (from medpy) (1.4.1)\n",
      "Requirement already satisfied: numpy>=1.11.0 in /usr/local/lib/python3.7/dist-packages (from medpy) (1.19.5)\n",
      "Collecting SimpleITK>=1.1.0\n",
      "  Downloading SimpleITK-2.1.0-cp37-cp37m-manylinux_2_12_x86_64.manylinux2010_x86_64.whl (48.4 MB)\n",
      "\u001b[K     |████████████████████████████████| 48.4 MB 35 kB/s \n",
      "\u001b[?25hBuilding wheels for collected packages: medpy\n",
      "  Building wheel for medpy (setup.py) ... \u001b[?25l\u001b[?25hdone\n",
      "  Created wheel for medpy: filename=MedPy-0.4.0-cp37-cp37m-linux_x86_64.whl size=754465 sha256=326104bbecca1de297a0dc7ac3d23491b7708cfa2594e08161bfd175e8ce5c01\n",
      "  Stored in directory: /root/.cache/pip/wheels/b0/57/3a/da1183f22a6afb42e11138daa6a759de233fd977a984333602\n",
      "Successfully built medpy\n",
      "Installing collected packages: SimpleITK, medpy\n",
      "Successfully installed SimpleITK-2.1.0 medpy-0.4.0\n"
     ]
    }
   ],
   "source": [
    "!pip install pynrrd\n",
    "!pip install medpy"
   ]
  },
  {
   "cell_type": "code",
   "execution_count": 2,
   "metadata": {
    "id": "GsZLDWpPSfi2"
   },
   "outputs": [],
   "source": [
    "import os\n",
    "import re\n",
    "import numpy as np\n",
    "import pandas as pd\n",
    "from shutil import copy\n",
    "from tqdm.auto import tqdm\n",
    "\n",
    "from nrrd import read, write\n",
    "from medpy.io import load, save"
   ]
  },
  {
   "cell_type": "code",
   "execution_count": 3,
   "metadata": {
    "id": "kBBpUMc1Y5Xt"
   },
   "outputs": [],
   "source": [
    "!rm -rf /content/corrFiles\n",
    "!rm -rf /content/correctedFiles"
   ]
  },
  {
   "cell_type": "code",
   "execution_count": 4,
   "metadata": {
    "id": "VFBHvz-RCoYu"
   },
   "outputs": [],
   "source": [
    "csv_data = pd.read_csv(\"/content/Heart_and_kidney_correction.csv\", skiprows=lambda x: x % 2)\n",
    "\n",
    "HeartKidney_path = \"/content/MScSegmentationCourse_HeartKidney/\"\n",
    "corrFiles_path = \"/content/corrFiles/\"\n",
    "correctedFiles_path = \"/content/correctedFiles/\"\n",
    "\n",
    "for dir in [corrFiles_path, correctedFiles_path]:\n",
    "  os.mkdir(dir)"
   ]
  },
  {
   "cell_type": "markdown",
   "metadata": {
    "id": "Aw7mfGNIuN7e"
   },
   "source": [
    "### get corr files"
   ]
  },
  {
   "cell_type": "code",
   "execution_count": 5,
   "metadata": {
    "id": "C0ud-nYOTOAz"
   },
   "outputs": [],
   "source": [
    "files = os.listdir(HeartKidney_path)\n",
    "\n",
    "for file in files:\n",
    "  if \"corr\" in file and file[0] != '.':\n",
    "    copy(HeartKidney_path + file, corrFiles_path + file)"
   ]
  },
  {
   "cell_type": "markdown",
   "metadata": {
    "id": "Z-FmSufkDW8H"
   },
   "source": [
    "### make corrections"
   ]
  },
  {
   "cell_type": "code",
   "execution_count": 6,
   "metadata": {
    "colab": {
     "base_uri": "https://localhost:8080/",
     "height": 133,
     "referenced_widgets": [
      "d7d1b3fc4e194889bfc600f6c23f22d9",
      "6bca658f414c4df88b5ef81bb2d1dd09",
      "d0417611b2c44e0f9058f80acfc4c0fd",
      "499f8eb64b8b4b06ae60594201dd969a",
      "84b85d0d81c245e2beb811a1fd50c6f1",
      "29026b971c734d8f9abcd688af523699",
      "87d941938f9146c582725a618859878f",
      "c13580d3ca184fda9ed318fdc990e918",
      "2b9519edf5134010ab3749b1d1041c24",
      "127163f8c22b4332b9681c5c61aaf5da",
      "b4d10b6aa2734511a52a3bf3466259a4"
     ]
    },
    "id": "kQzFjAByfVjL",
    "outputId": "439dc2e4-f7a5-4cb6-c741-19d4a25dcfe0"
   },
   "outputs": [
    {
     "data": {
      "application/vnd.jupyter.widget-view+json": {
       "model_id": "d7d1b3fc4e194889bfc600f6c23f22d9",
       "version_major": 2,
       "version_minor": 0
      },
      "text/plain": [
       "  0%|          | 0/22 [00:00<?, ?it/s]"
      ]
     },
     "metadata": {},
     "output_type": "display_data"
    },
    {
     "name": "stdout",
     "output_type": "stream",
     "text": [
      "skipped heartandkidney_corr_513_dimorph13.nrrd\n",
      "skipped heartandkidney_corr_511_dimorph16.nrrd\n",
      "skipped heartandkidney_corr_508_dimorph04.nrrd\n",
      "skipped heartandkidney_corr_511_dimorph12.nrrd\n",
      "skipped heartandkidney_corr_675_dimorph12.nrrd\n"
     ]
    }
   ],
   "source": [
    "files = os.listdir(corrFiles_path)\n",
    "\n",
    "for file in tqdm(files):\n",
    "\n",
    "  # correct filenames\n",
    "  fish_name = file.split('_')[-1]\n",
    "  sample_id = file.split('_')[-2]\n",
    "  ext = fish_name[fish_name.index('.'):]\n",
    "  m = re.findall(r\"\\d\", fish_name)\n",
    "  account_id = ''.join(m)\n",
    "  new_fname = account_id + '-' + sample_id + ext\n",
    "\n",
    "  # correct markup\n",
    "  account_id, sample_id = int(account_id), int(sample_id)\n",
    "  mask = (csv_data['u'] == account_id) & (csv_data['i'] == sample_id)\n",
    "  file_data = csv_data[mask]\n",
    "\n",
    "  # check for badly segmented files\n",
    "  if \"bad\" in file_data[\"notes\"].values[0]:\n",
    "    print(f\"skipped {file}\")\n",
    "    continue\n",
    "\n",
    "  #img, hdr = load(corrFiles_path + file)   # medpy\n",
    "  img, hdr = read(corrFiles_path + file)    # pynrrd\n",
    "  # change labels 3 and 8 to background\n",
    "  img[(img==3) | (img==8)] = 0\n",
    "\n",
    "  # correct files 13-513 and 13-677 which have label inconsistency\n",
    "  # labels for 7 and 10 are swapped\n",
    "  if (account_id == 13) and (sample_id==513 or sample_id==677):\n",
    "    tmp = img.copy()\n",
    "    img[tmp==10] = 7\n",
    "    img[tmp==7] = 10\n",
    "\n",
    "  # medpy results in big file (>300 mb) size without compresion\n",
    "  # around 2 mb with compression\n",
    "  #save(img, correctedFiles_path + new_fname, hdr=hdr, use_compression=True)\n",
    "\n",
    "  # pynrrd results in file size < 1 mb\n",
    "  write(correctedFiles_path + new_fname, img, header=hdr)"
   ]
  },
  {
   "cell_type": "code",
   "execution_count": 7,
   "metadata": {
    "colab": {
     "base_uri": "https://localhost:8080/"
    },
    "id": "PKZqN2-30Vd7",
    "outputId": "1b159883-9635-4e32-cb36-c94f816eac6c"
   },
   "outputs": [
    {
     "name": "stdout",
     "output_type": "stream",
     "text": [
      "  adding: content/correctedFiles/ (stored 0%)\n",
      "  adding: content/correctedFiles/15-516.nrrd (deflated 85%)\n",
      "  adding: content/correctedFiles/01-1095.nrrd (deflated 78%)\n",
      "  adding: content/correctedFiles/01-803.nrrd (deflated 80%)\n",
      "  adding: content/correctedFiles/04-673.nrrd (deflated 82%)\n",
      "  adding: content/correctedFiles/15-803.nrrd (deflated 82%)\n",
      "  adding: content/correctedFiles/16-1099.nrrd (deflated 79%)\n",
      "  adding: content/correctedFiles/04-513.nrrd (deflated 81%)\n",
      "  adding: content/correctedFiles/04-1258.nrrd (deflated 79%)\n",
      "  adding: content/correctedFiles/15-677.nrrd (deflated 85%)\n",
      "  adding: content/correctedFiles/12-1099.nrrd (deflated 78%)\n",
      "  adding: content/correctedFiles/01-508.nrrd (deflated 82%)\n",
      "  adding: content/correctedFiles/13-677.nrrd (deflated 83%)\n",
      "  adding: content/correctedFiles/13-1258.nrrd (deflated 79%)\n",
      "  adding: content/correctedFiles/04-675.nrrd (deflated 80%)\n",
      "  adding: content/correctedFiles/12-673.nrrd (deflated 84%)\n",
      "  adding: content/correctedFiles/06-516.nrrd (deflated 84%)\n",
      "  adding: content/correctedFiles/16-833.nrrd (deflated 80%)\n"
     ]
    }
   ],
   "source": [
    "!zip -r /content/correctedFiles.zip /content/correctedFiles"
   ]
  }
 ],
 "metadata": {
  "colab": {
   "name": "heart&kidney_corr.ipynb",
   "provenance": []
  },
  "kernelspec": {
   "display_name": "Python 3 (ipykernel)",
   "language": "python",
   "name": "python3"
  },
  "language_info": {
   "codemirror_mode": {
    "name": "ipython",
    "version": 3
   },
   "file_extension": ".py",
   "mimetype": "text/x-python",
   "name": "python",
   "nbconvert_exporter": "python",
   "pygments_lexer": "ipython3",
   "version": "3.8.5"
  },
  "widgets": {
   "application/vnd.jupyter.widget-state+json": {
    "127163f8c22b4332b9681c5c61aaf5da": {
     "model_module": "@jupyter-widgets/controls",
     "model_module_version": "1.5.0",
     "model_name": "DescriptionStyleModel",
     "state": {
      "_model_module": "@jupyter-widgets/controls",
      "_model_module_version": "1.5.0",
      "_model_name": "DescriptionStyleModel",
      "_view_count": null,
      "_view_module": "@jupyter-widgets/base",
      "_view_module_version": "1.2.0",
      "_view_name": "StyleView",
      "description_width": ""
     }
    },
    "29026b971c734d8f9abcd688af523699": {
     "model_module": "@jupyter-widgets/controls",
     "model_module_version": "1.5.0",
     "model_name": "DescriptionStyleModel",
     "state": {
      "_model_module": "@jupyter-widgets/controls",
      "_model_module_version": "1.5.0",
      "_model_name": "DescriptionStyleModel",
      "_view_count": null,
      "_view_module": "@jupyter-widgets/base",
      "_view_module_version": "1.2.0",
      "_view_name": "StyleView",
      "description_width": ""
     }
    },
    "2b9519edf5134010ab3749b1d1041c24": {
     "model_module": "@jupyter-widgets/base",
     "model_module_version": "1.2.0",
     "model_name": "LayoutModel",
     "state": {
      "_model_module": "@jupyter-widgets/base",
      "_model_module_version": "1.2.0",
      "_model_name": "LayoutModel",
      "_view_count": null,
      "_view_module": "@jupyter-widgets/base",
      "_view_module_version": "1.2.0",
      "_view_name": "LayoutView",
      "align_content": null,
      "align_items": null,
      "align_self": null,
      "border": null,
      "bottom": null,
      "display": null,
      "flex": null,
      "flex_flow": null,
      "grid_area": null,
      "grid_auto_columns": null,
      "grid_auto_flow": null,
      "grid_auto_rows": null,
      "grid_column": null,
      "grid_gap": null,
      "grid_row": null,
      "grid_template_areas": null,
      "grid_template_columns": null,
      "grid_template_rows": null,
      "height": null,
      "justify_content": null,
      "justify_items": null,
      "left": null,
      "margin": null,
      "max_height": null,
      "max_width": null,
      "min_height": null,
      "min_width": null,
      "object_fit": null,
      "object_position": null,
      "order": null,
      "overflow": null,
      "overflow_x": null,
      "overflow_y": null,
      "padding": null,
      "right": null,
      "top": null,
      "visibility": null,
      "width": null
     }
    },
    "499f8eb64b8b4b06ae60594201dd969a": {
     "model_module": "@jupyter-widgets/controls",
     "model_module_version": "1.5.0",
     "model_name": "FloatProgressModel",
     "state": {
      "_dom_classes": [],
      "_model_module": "@jupyter-widgets/controls",
      "_model_module_version": "1.5.0",
      "_model_name": "FloatProgressModel",
      "_view_count": null,
      "_view_module": "@jupyter-widgets/controls",
      "_view_module_version": "1.5.0",
      "_view_name": "ProgressView",
      "bar_style": "success",
      "description": "",
      "description_tooltip": null,
      "layout": "IPY_MODEL_2b9519edf5134010ab3749b1d1041c24",
      "max": 22,
      "min": 0,
      "orientation": "horizontal",
      "style": "IPY_MODEL_c13580d3ca184fda9ed318fdc990e918",
      "value": 22
     }
    },
    "6bca658f414c4df88b5ef81bb2d1dd09": {
     "model_module": "@jupyter-widgets/base",
     "model_module_version": "1.2.0",
     "model_name": "LayoutModel",
     "state": {
      "_model_module": "@jupyter-widgets/base",
      "_model_module_version": "1.2.0",
      "_model_name": "LayoutModel",
      "_view_count": null,
      "_view_module": "@jupyter-widgets/base",
      "_view_module_version": "1.2.0",
      "_view_name": "LayoutView",
      "align_content": null,
      "align_items": null,
      "align_self": null,
      "border": null,
      "bottom": null,
      "display": null,
      "flex": null,
      "flex_flow": null,
      "grid_area": null,
      "grid_auto_columns": null,
      "grid_auto_flow": null,
      "grid_auto_rows": null,
      "grid_column": null,
      "grid_gap": null,
      "grid_row": null,
      "grid_template_areas": null,
      "grid_template_columns": null,
      "grid_template_rows": null,
      "height": null,
      "justify_content": null,
      "justify_items": null,
      "left": null,
      "margin": null,
      "max_height": null,
      "max_width": null,
      "min_height": null,
      "min_width": null,
      "object_fit": null,
      "object_position": null,
      "order": null,
      "overflow": null,
      "overflow_x": null,
      "overflow_y": null,
      "padding": null,
      "right": null,
      "top": null,
      "visibility": null,
      "width": null
     }
    },
    "84b85d0d81c245e2beb811a1fd50c6f1": {
     "model_module": "@jupyter-widgets/controls",
     "model_module_version": "1.5.0",
     "model_name": "HTMLModel",
     "state": {
      "_dom_classes": [],
      "_model_module": "@jupyter-widgets/controls",
      "_model_module_version": "1.5.0",
      "_model_name": "HTMLModel",
      "_view_count": null,
      "_view_module": "@jupyter-widgets/controls",
      "_view_module_version": "1.5.0",
      "_view_name": "HTMLView",
      "description": "",
      "description_tooltip": null,
      "layout": "IPY_MODEL_b4d10b6aa2734511a52a3bf3466259a4",
      "placeholder": "​",
      "style": "IPY_MODEL_127163f8c22b4332b9681c5c61aaf5da",
      "value": " 22/22 [01:38&lt;00:00,  4.91s/it]"
     }
    },
    "87d941938f9146c582725a618859878f": {
     "model_module": "@jupyter-widgets/base",
     "model_module_version": "1.2.0",
     "model_name": "LayoutModel",
     "state": {
      "_model_module": "@jupyter-widgets/base",
      "_model_module_version": "1.2.0",
      "_model_name": "LayoutModel",
      "_view_count": null,
      "_view_module": "@jupyter-widgets/base",
      "_view_module_version": "1.2.0",
      "_view_name": "LayoutView",
      "align_content": null,
      "align_items": null,
      "align_self": null,
      "border": null,
      "bottom": null,
      "display": null,
      "flex": null,
      "flex_flow": null,
      "grid_area": null,
      "grid_auto_columns": null,
      "grid_auto_flow": null,
      "grid_auto_rows": null,
      "grid_column": null,
      "grid_gap": null,
      "grid_row": null,
      "grid_template_areas": null,
      "grid_template_columns": null,
      "grid_template_rows": null,
      "height": null,
      "justify_content": null,
      "justify_items": null,
      "left": null,
      "margin": null,
      "max_height": null,
      "max_width": null,
      "min_height": null,
      "min_width": null,
      "object_fit": null,
      "object_position": null,
      "order": null,
      "overflow": null,
      "overflow_x": null,
      "overflow_y": null,
      "padding": null,
      "right": null,
      "top": null,
      "visibility": null,
      "width": null
     }
    },
    "b4d10b6aa2734511a52a3bf3466259a4": {
     "model_module": "@jupyter-widgets/base",
     "model_module_version": "1.2.0",
     "model_name": "LayoutModel",
     "state": {
      "_model_module": "@jupyter-widgets/base",
      "_model_module_version": "1.2.0",
      "_model_name": "LayoutModel",
      "_view_count": null,
      "_view_module": "@jupyter-widgets/base",
      "_view_module_version": "1.2.0",
      "_view_name": "LayoutView",
      "align_content": null,
      "align_items": null,
      "align_self": null,
      "border": null,
      "bottom": null,
      "display": null,
      "flex": null,
      "flex_flow": null,
      "grid_area": null,
      "grid_auto_columns": null,
      "grid_auto_flow": null,
      "grid_auto_rows": null,
      "grid_column": null,
      "grid_gap": null,
      "grid_row": null,
      "grid_template_areas": null,
      "grid_template_columns": null,
      "grid_template_rows": null,
      "height": null,
      "justify_content": null,
      "justify_items": null,
      "left": null,
      "margin": null,
      "max_height": null,
      "max_width": null,
      "min_height": null,
      "min_width": null,
      "object_fit": null,
      "object_position": null,
      "order": null,
      "overflow": null,
      "overflow_x": null,
      "overflow_y": null,
      "padding": null,
      "right": null,
      "top": null,
      "visibility": null,
      "width": null
     }
    },
    "c13580d3ca184fda9ed318fdc990e918": {
     "model_module": "@jupyter-widgets/controls",
     "model_module_version": "1.5.0",
     "model_name": "ProgressStyleModel",
     "state": {
      "_model_module": "@jupyter-widgets/controls",
      "_model_module_version": "1.5.0",
      "_model_name": "ProgressStyleModel",
      "_view_count": null,
      "_view_module": "@jupyter-widgets/base",
      "_view_module_version": "1.2.0",
      "_view_name": "StyleView",
      "bar_color": null,
      "description_width": ""
     }
    },
    "d0417611b2c44e0f9058f80acfc4c0fd": {
     "model_module": "@jupyter-widgets/controls",
     "model_module_version": "1.5.0",
     "model_name": "HTMLModel",
     "state": {
      "_dom_classes": [],
      "_model_module": "@jupyter-widgets/controls",
      "_model_module_version": "1.5.0",
      "_model_name": "HTMLModel",
      "_view_count": null,
      "_view_module": "@jupyter-widgets/controls",
      "_view_module_version": "1.5.0",
      "_view_name": "HTMLView",
      "description": "",
      "description_tooltip": null,
      "layout": "IPY_MODEL_87d941938f9146c582725a618859878f",
      "placeholder": "​",
      "style": "IPY_MODEL_29026b971c734d8f9abcd688af523699",
      "value": "100%"
     }
    },
    "d7d1b3fc4e194889bfc600f6c23f22d9": {
     "model_module": "@jupyter-widgets/controls",
     "model_module_version": "1.5.0",
     "model_name": "HBoxModel",
     "state": {
      "_dom_classes": [],
      "_model_module": "@jupyter-widgets/controls",
      "_model_module_version": "1.5.0",
      "_model_name": "HBoxModel",
      "_view_count": null,
      "_view_module": "@jupyter-widgets/controls",
      "_view_module_version": "1.5.0",
      "_view_name": "HBoxView",
      "box_style": "",
      "children": [
       "IPY_MODEL_d0417611b2c44e0f9058f80acfc4c0fd",
       "IPY_MODEL_499f8eb64b8b4b06ae60594201dd969a",
       "IPY_MODEL_84b85d0d81c245e2beb811a1fd50c6f1"
      ],
      "layout": "IPY_MODEL_6bca658f414c4df88b5ef81bb2d1dd09"
     }
    }
   }
  }
 },
 "nbformat": 4,
 "nbformat_minor": 1
}
