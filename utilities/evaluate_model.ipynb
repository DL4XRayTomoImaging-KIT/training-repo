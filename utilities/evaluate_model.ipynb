{
 "cells": [
  {
   "cell_type": "code",
   "execution_count": 1,
   "id": "fd94bb8c",
   "metadata": {},
   "outputs": [
    {
     "name": "stdout",
     "output_type": "stream",
     "text": [
      "2\n"
     ]
    }
   ],
   "source": [
    "import yaml\n",
    "import numpy as np\n",
    "from tqdm.auto import tqdm\n",
    "import matplotlib.pyplot as plt\n",
    "\n",
    "import torch\n",
    "device = torch.device(\"cuda\" if torch.cuda.is_available() else \"cpu\")\n",
    "# check to confirm if only 2 gpus are being utilized\n",
    "print(torch.cuda.device_count())"
   ]
  },
  {
   "cell_type": "markdown",
   "id": "1793077c",
   "metadata": {},
   "source": [
    "### load a model"
   ]
  },
  {
   "cell_type": "code",
   "execution_count": 2,
   "id": "9cc531e8",
   "metadata": {},
   "outputs": [
    {
     "name": "stdout",
     "output_type": "stream",
     "text": [
      ">>>>>>>>>>>>>>>> initializing model\n",
      "trainable parameters in model: 14323242\n",
      "<<<<<<<<<<<<<<<< done in 0.27 sec.\n",
      "model in training: False\n",
      ">>>>>>>>>>>>>>>> loading checkpoint\n",
      "<<<<<<<<<<<<<<<< done in 0.059 sec.\n"
     ]
    }
   ],
   "source": [
    "import os\n",
    "os.chdir(\"/home/ws/er5241/Repos/training-repo/\")\n",
    "\n",
    "from train import get_model, load_weights\n",
    "\n",
    "model_params = {'network_type': 'Unet', 'encoder_name': 'resnet18', 'classes': 10, 'in_channels': 1}\n",
    "model = get_model(**model_params).to(device)\n",
    "model.train(False)\n",
    "print(f'model in training: {model.training}')\n",
    "\n",
    "# initial brain model (teacher model)\n",
    "# evaluated with batch size 256\n",
    "chkpnt = {'checkpoint_addr': '/home/ws/er5241/logs/medaka-supervised/2021-09-08_23-31-03/logdir/checkpoints/last.pth', 'checkpoint_key': 'model_state_dict'}\n",
    "load_weights(model, **chkpnt)\n",
    "\n",
    "# # model trained on enlarged dataset (student model)\n",
    "# # evaluated with batch size 256\n",
    "# chkpnt = {'checkpoint_addr': '/home/ws/er5241/logs_old/medaka-supervised/2022-05-03_11-15-57/logdir/checkpoints/last.pth', 'checkpoint_key': 'model_state_dict'}\n",
    "# load_weights(model, **chkpnt)"
   ]
  },
  {
   "cell_type": "markdown",
   "id": "f772325b",
   "metadata": {},
   "source": [
    "### create a config to form loaders"
   ]
  },
  {
   "cell_type": "code",
   "execution_count": 3,
   "id": "0b182c1b",
   "metadata": {},
   "outputs": [],
   "source": [
    "cfg = {'gatherers': [{'matcher_kwargs': {'targets': '/mnt/HD-LSDF/Medaka/segmentations/workshop/brain_decropped/{}.tif',\n",
    "                                        'volumes': '/mnt/HD-LSDF/Medaka/segmentations/workshop/medaka_decropped/{}.tif'},\n",
    "                                        'seed': 42}],\n",
    "       \n",
    "       'datasets': [\n",
    "           {'dataset_names': 'default',\n",
    "            'dataset_kwargs': {'mode_3d': False, 'use_ram': True, 'localised_crop': True}},\n",
    "         \n",
    "           {'dataset_names': 'train',\n",
    "              'aug_name': 'medium_aug_rot', 'dataset_kwargs': {'crop_size': 256}, \n",
    "              'dataset_rebalance_function_name': 'TVSD_dataset_resample', 'dataloader_kwargs': {'batch_size': 64}},\n",
    "         \n",
    "           {'dataset_names': 'valid',\n",
    "              'dataset_kwargs': {'crop_size': 512}, 'dataloader_kwargs': {'batch_size': 32}}]}"
   ]
  },
  {
   "cell_type": "code",
   "execution_count": 4,
   "id": "091e3606",
   "metadata": {},
   "outputs": [],
   "source": [
    "import os\n",
    "os.chdir('/home/ws/er5241/Repos/training-repo')\n",
    "\n",
    "import src.loaders\n",
    "import src.callbacks"
   ]
  },
  {
   "cell_type": "code",
   "execution_count": 5,
   "id": "24cd5962",
   "metadata": {},
   "outputs": [
    {
     "name": "stdout",
     "output_type": "stream",
     "text": [
      "seed = 42\n"
     ]
    },
    {
     "data": {
      "application/vnd.jupyter.widget-view+json": {
       "model_id": "feb081b4ef404720ae047fe498f25336",
       "version_major": 2,
       "version_minor": 0
      },
      "text/plain": [
       "getting TVSD datasets:   0%|          | 0/23 [00:00<?, ?it/s]"
      ]
     },
     "metadata": {},
     "output_type": "display_data"
    },
    {
     "data": {
      "application/vnd.jupyter.widget-view+json": {
       "model_id": "3d0ea619809742578192bd7fad9700ce",
       "version_major": 2,
       "version_minor": 0
      },
      "text/plain": [
       "resampling TVSD datasets:   0%|          | 0/23 [00:00<?, ?it/s]"
      ]
     },
     "metadata": {},
     "output_type": "display_data"
    },
    {
     "name": "stdout",
     "output_type": "stream",
     "text": [
      "{'drop_last': True, 'shuffle': True, 'num_workers': 16, 'pin_memory': True, 'batch_size': 64}\n"
     ]
    },
    {
     "data": {
      "application/vnd.jupyter.widget-view+json": {
       "model_id": "d26c9fccc5c546f0a273c18d86c73423",
       "version_major": 2,
       "version_minor": 0
      },
      "text/plain": [
       "getting TVSD datasets:   0%|          | 0/8 [00:00<?, ?it/s]"
      ]
     },
     "metadata": {},
     "output_type": "display_data"
    },
    {
     "name": "stdout",
     "output_type": "stream",
     "text": [
      "{'drop_last': True, 'shuffle': True, 'num_workers': 16, 'pin_memory': True, 'batch_size': 32}\n"
     ]
    }
   ],
   "source": [
    "loaders = getattr(src.loaders, 'generic_loaders')(**cfg, seed=42)\n",
    "\n",
    "train_loader = loaders[0]['train']\n",
    "val_loader = loaders[0]['valid']"
   ]
  },
  {
   "cell_type": "code",
   "execution_count": 6,
   "id": "bb526bf4",
   "metadata": {},
   "outputs": [
    {
     "data": {
      "application/vnd.jupyter.widget-view+json": {
       "model_id": "8447b3f905b841e88894b83f1307062a",
       "version_major": 2,
       "version_minor": 0
      },
      "text/plain": [
       "  0%|          | 0/507 [00:01<?, ?it/s]"
      ]
     },
     "metadata": {},
     "output_type": "display_data"
    }
   ],
   "source": [
    "ious = []\n",
    "\n",
    "for i, (img_batch, lbl_batch) in enumerate(tqdm(val_loader)):\n",
    "  pred_batch = model(img_batch.to(device))\n",
    "  iou_vals = src.callbacks.get_iou(pred_batch, lbl_batch.to(device))\n",
    "  \n",
    "  ious.append(iou_vals)"
   ]
  },
  {
   "cell_type": "code",
   "execution_count": 7,
   "id": "b61b1e0f",
   "metadata": {},
   "outputs": [
    {
     "data": {
      "text/plain": [
       "83.415422862889"
      ]
     },
     "execution_count": 7,
     "metadata": {},
     "output_type": "execute_result"
    }
   ],
   "source": [
    "np.mean(ious)"
   ]
  }
 ],
 "metadata": {
  "kernelspec": {
   "display_name": "Python 3 (ipykernel)",
   "language": "python",
   "name": "python3"
  },
  "language_info": {
   "codemirror_mode": {
    "name": "ipython",
    "version": 3
   },
   "file_extension": ".py",
   "mimetype": "text/x-python",
   "name": "python",
   "nbconvert_exporter": "python",
   "pygments_lexer": "ipython3",
   "version": "3.9.12"
  }
 },
 "nbformat": 4,
 "nbformat_minor": 5
}
