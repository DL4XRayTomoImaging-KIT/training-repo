{
 "cells": [
  {
   "cell_type": "code",
   "execution_count": 21,
   "id": "3a559ce4",
   "metadata": {},
   "outputs": [],
   "source": [
    "import yaml\n",
    "from tqdm import tqdm\n",
    "\n",
    "def get_cfg():\n",
    "  with open(\"/home/ws/er5241/Repos/training-repo/training_configs/dataset/brain.yaml\") as f:\n",
    "      cfg = yaml.safe_load(f)\n",
    "\n",
    "  return cfg\n",
    "cfg = get_cfg()"
   ]
  },
  {
   "cell_type": "code",
   "execution_count": 22,
   "id": "61c5aac3",
   "metadata": {},
   "outputs": [
    {
     "name": "stdout",
     "output_type": "stream",
     "text": [
      "dict_keys(['gatherers', 'seed', 'datasets'])\n"
     ]
    }
   ],
   "source": [
    "print(cfg.keys())"
   ]
  },
  {
   "cell_type": "code",
   "execution_count": 23,
   "id": "c13aacca",
   "metadata": {},
   "outputs": [
    {
     "data": {
      "text/plain": [
       "{'gatherers': [{'matcher_kwargs': {'targets': '/mnt/HD-LSDF/Medaka/segmentations/workshop/brain_decropped/{}.tif',\n",
       "    'volumes': '/mnt/HD-LSDF/Medaka/segmentations/workshop/medaka_decropped/{}.tif'}}],\n",
       " 'seed': 42,\n",
       " 'datasets': [{'dataset_names': 'default',\n",
       "   'dataset_kwargs': {'mode_3d': False,\n",
       "    'use_ram': True,\n",
       "    'localised_crop': True}},\n",
       "  {'dataset_names': 'train',\n",
       "   'aug_name': 'medium_aug_rot',\n",
       "   'dataset_kwargs': {'crop_size': 256},\n",
       "   'dataset_rebalance_function_name': 'TVSD_dataset_resample',\n",
       "   'dataloader_kwargs': {'batch_size': 64}},\n",
       "  {'dataset_names': 'valid',\n",
       "   'dataset_kwargs': {'crop_size': 512},\n",
       "   'dataloader_kwargs': {'batch_size': 256}}]}"
      ]
     },
     "execution_count": 23,
     "metadata": {},
     "output_type": "execute_result"
    }
   ],
   "source": [
    "cfg"
   ]
  },
  {
   "cell_type": "code",
   "execution_count": 29,
   "id": "68bf34de",
   "metadata": {},
   "outputs": [],
   "source": [
    "cfg['datasets'][0]['use_ram']=False"
   ]
  },
  {
   "cell_type": "code",
   "execution_count": 30,
   "id": "a134b410",
   "metadata": {},
   "outputs": [],
   "source": [
    "import os\n",
    "os.chdir('/home/ws/er5241/Repos/training-repo')\n",
    "\n",
    "import src.datasets, src.loaders"
   ]
  },
  {
   "cell_type": "code",
   "execution_count": 31,
   "id": "08b7de77",
   "metadata": {},
   "outputs": [],
   "source": [
    "addresses = src.loaders.gather_collections(cfg['gatherers'], cfg['seed'])"
   ]
  },
  {
   "cell_type": "code",
   "execution_count": 32,
   "id": "a73329d6",
   "metadata": {},
   "outputs": [
    {
     "data": {
      "text/plain": [
       "23"
      ]
     },
     "execution_count": 32,
     "metadata": {},
     "output_type": "execute_result"
    }
   ],
   "source": [
    "len(addresses['train'])"
   ]
  },
  {
   "cell_type": "code",
   "execution_count": 35,
   "id": "4d250f98",
   "metadata": {},
   "outputs": [
    {
     "data": {
      "application/vnd.jupyter.widget-view+json": {
       "model_id": "450c92d577be4a6ba8320d1ee47fb8e2",
       "version_major": 2,
       "version_minor": 0
      },
      "text/plain": [
       "getting TVSD datasets:   0%|          | 0/8 [00:00<?, ?it/s]"
      ]
     },
     "metadata": {},
     "output_type": "display_data"
    }
   ],
   "source": [
    "addresses = src.loaders.gather_collections(cfg['gatherers'], cfg['seed'])\n",
    "dataset = getattr(src.datasets, 'get_TVSD_datasets')(addresses['valid'], **{'crop_size': 512, 'mode_3d': False, 'use_ram': False, 'localised_crop': True})"
   ]
  },
  {
   "cell_type": "code",
   "execution_count": 39,
   "id": "b0d4b450",
   "metadata": {},
   "outputs": [
    {
     "name": "stdout",
     "output_type": "stream",
     "text": [
      "True\n",
      "/mnt/HD-LSDF/Medaka/segmentations/workshop/medaka_decropped/508.tif\n"
     ]
    },
    {
     "data": {
      "text/plain": [
       "memmap([[ 0,  0,  0, ...,  0,  0,  0],\n",
       "        [ 0,  0,  0, ...,  0,  0,  0],\n",
       "        [ 0,  0,  0, ...,  0,  0,  0],\n",
       "        ...,\n",
       "        [43, 39, 41, ...,  0,  0,  0],\n",
       "        [44, 46, 48, ...,  0,  0,  0],\n",
       "        [38, 43, 42, ...,  0,  0,  0]], dtype=uint8)"
      ]
     },
     "execution_count": 39,
     "metadata": {},
     "output_type": "execute_result"
    }
   ],
   "source": [
    "dataset1 = dataset.datasets[0]\n",
    "\n",
    "print( dataset1.volume.is_memmapped )\n",
    "print( dataset1.volume.file_addr )\n",
    "dataset1.volume[0]"
   ]
  },
  {
   "cell_type": "code",
   "execution_count": 13,
   "id": "b84bbb63",
   "metadata": {},
   "outputs": [
    {
     "data": {
      "application/vnd.jupyter.widget-view+json": {
       "model_id": "121c8dbca3674f9f9fe8df70fc34103a",
       "version_major": 2,
       "version_minor": 0
      },
      "text/plain": [
       "getting TVSD datasets:   0%|          | 0/23 [00:00<?, ?it/s]"
      ]
     },
     "metadata": {},
     "output_type": "display_data"
    },
    {
     "data": {
      "application/vnd.jupyter.widget-view+json": {
       "model_id": "6a8a2986e78845708217fbe0d0e4735c",
       "version_major": 2,
       "version_minor": 0
      },
      "text/plain": [
       "resampling TVSD datasets:   0%|          | 0/23 [00:00<?, ?it/s]"
      ]
     },
     "metadata": {},
     "output_type": "display_data"
    },
    {
     "data": {
      "application/vnd.jupyter.widget-view+json": {
       "model_id": "c4da91cddcd6428d9ceb7cb496bdb73f",
       "version_major": 2,
       "version_minor": 0
      },
      "text/plain": [
       "getting TVSD datasets:   0%|          | 0/8 [00:00<?, ?it/s]"
      ]
     },
     "metadata": {},
     "output_type": "display_data"
    }
   ],
   "source": [
    "loaders = getattr(src.loaders, 'generic_loaders')(**cfg)"
   ]
  },
  {
   "cell_type": "code",
   "execution_count": 7,
   "id": "1e3e4875",
   "metadata": {},
   "outputs": [
    {
     "name": "stdout",
     "output_type": "stream",
     "text": [
      "len of train loader: 139\n",
      "len of val loader: 63\n"
     ]
    }
   ],
   "source": [
    "loaders_in_loop, loaders_post_loop = loaders\n",
    "train_loader, val_loader = loaders_in_loop['train'], loaders_in_loop['valid']\n",
    "print(f'len of train loader: {len(train_loader)}')\n",
    "print(f'len of val loader: {len(val_loader)}')"
   ]
  },
  {
   "cell_type": "code",
   "execution_count": 3,
   "id": "46a66a11",
   "metadata": {},
   "outputs": [
    {
     "name": "stdout",
     "output_type": "stream",
     "text": [
      "605\n",
      "8\n"
     ]
    }
   ],
   "source": [
    "addrs = getattr(src.loaders, 'gather_collections')(cfg['gatherers'], cfg['seed'])\n",
    "train_addrs, val_addrs = addrs['train'], addrs['valid']\n",
    "print(len(train_addrs))\n",
    "print(len(val_addrs))"
   ]
  },
  {
   "cell_type": "code",
   "execution_count": null,
   "id": "6eb406de",
   "metadata": {},
   "outputs": [],
   "source": []
  }
 ],
 "metadata": {
  "kernelspec": {
   "display_name": "Python 3 (ipykernel)",
   "language": "python",
   "name": "python3"
  },
  "language_info": {
   "codemirror_mode": {
    "name": "ipython",
    "version": 3
   },
   "file_extension": ".py",
   "mimetype": "text/x-python",
   "name": "python",
   "nbconvert_exporter": "python",
   "pygments_lexer": "ipython3",
   "version": "3.9.12"
  }
 },
 "nbformat": 4,
 "nbformat_minor": 5
}
