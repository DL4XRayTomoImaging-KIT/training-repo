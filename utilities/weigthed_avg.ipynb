{
 "cells": [
  {
   "cell_type": "code",
   "execution_count": 3,
   "id": "97a24dc9",
   "metadata": {},
   "outputs": [],
   "source": [
    "import numpy as np\n",
    "from glob import glob\n",
    "from tqdm.auto import tqdm\n",
    "from univread import read as imread"
   ]
  },
  {
   "cell_type": "code",
   "execution_count": 19,
   "id": "355e1416",
   "metadata": {},
   "outputs": [
    {
     "data": {
      "application/vnd.jupyter.widget-view+json": {
       "model_id": "666d38db9db04dc4919b295ee907a2ac",
       "version_major": 2,
       "version_minor": 0
      },
      "text/plain": [
       "  0%|          | 0/17 [00:00<?, ?it/s]"
      ]
     },
     "metadata": {},
     "output_type": "display_data"
    }
   ],
   "source": [
    "fls = glob('/autofs/HD-LSDF/sd20d002/segmentations/workshop/heartkidney_decropped/*')\n",
    "n_slices = {4:[], 6:[]}\n",
    "\n",
    "for fl in tqdm(fls):\n",
    "  msk = imread(fl)\n",
    "\n",
    "  for n in n_slices:\n",
    "    # x = len(np.where(msk==n)[0])  # only 0th axis (x-axis)\n",
    "    # x = sum([len(ax) for ax in np.where(msk==n)])\n",
    "    u, c = np.unique(msk, return_counts=True)\n",
    "    x = c[u==n][0]\n",
    "    n_slices[n].append(x)"
   ]
  },
  {
   "cell_type": "code",
   "execution_count": 20,
   "id": "4f2aeaa6",
   "metadata": {},
   "outputs": [
    {
     "name": "stdout",
     "output_type": "stream",
     "text": [
      "total slices containing 4: 143625\n",
      "total slices containing 6: 393418\n",
      "\n",
      "weighted average of 70,84: 80.2558864001579\n",
      "weighted average of 53,70: 65.45357634304888\n"
     ]
    }
   ],
   "source": [
    "# compute weighted average\n",
    "\n",
    "tot_4 = sum(n_slices[4])\n",
    "tot_6 = sum(n_slices[6])\n",
    "print('total slices containing 4:',tot_4)\n",
    "print('total slices containing 6:',tot_6)\n",
    "print()\n",
    "\n",
    "print('weighted average of 70,84:',(tot_4*70 + tot_6*84)/(tot_4+tot_6))\n",
    "print('weighted average of 53,70:',(tot_4*53 + tot_6*70)/(tot_4+tot_6))"
   ]
  }
 ],
 "metadata": {
  "kernelspec": {
   "display_name": "Python 3 (ipykernel)",
   "language": "python",
   "name": "python3"
  },
  "language_info": {
   "codemirror_mode": {
    "name": "ipython",
    "version": 3
   },
   "file_extension": ".py",
   "mimetype": "text/x-python",
   "name": "python",
   "nbconvert_exporter": "python",
   "pygments_lexer": "ipython3",
   "version": "3.8.5"
  }
 },
 "nbformat": 4,
 "nbformat_minor": 5
}
